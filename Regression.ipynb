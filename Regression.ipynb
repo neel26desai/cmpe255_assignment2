{
  "nbformat": 4,
  "nbformat_minor": 0,
  "metadata": {
    "colab": {
      "provenance": [],
      "authorship_tag": "ABX9TyM1ONPVrGM/qOrBRU84BiAE",
      "include_colab_link": true
    },
    "kernelspec": {
      "name": "python3",
      "display_name": "Python 3"
    },
    "language_info": {
      "name": "python"
    },
    "widgets": {
      "application/vnd.jupyter.widget-state+json": {
        "b9bf112d0b1547199e594e5e5bde45e0": {
          "model_module": "@jupyter-widgets/controls",
          "model_name": "HBoxModel",
          "model_module_version": "1.5.0",
          "state": {
            "_dom_classes": [],
            "_model_module": "@jupyter-widgets/controls",
            "_model_module_version": "1.5.0",
            "_model_name": "HBoxModel",
            "_view_count": null,
            "_view_module": "@jupyter-widgets/controls",
            "_view_module_version": "1.5.0",
            "_view_name": "HBoxView",
            "box_style": "",
            "children": [
              "IPY_MODEL_d57848db059744d48988bd2b006879a1",
              "IPY_MODEL_4818c0f0e0904ca79d2163e610aae1e9",
              "IPY_MODEL_5d37b126fe4d40cc87fb087567ef75e1"
            ],
            "layout": "IPY_MODEL_d2446ef6591c4fe9a35fbe49b0dfe571"
          }
        },
        "d57848db059744d48988bd2b006879a1": {
          "model_module": "@jupyter-widgets/controls",
          "model_name": "HTMLModel",
          "model_module_version": "1.5.0",
          "state": {
            "_dom_classes": [],
            "_model_module": "@jupyter-widgets/controls",
            "_model_module_version": "1.5.0",
            "_model_name": "HTMLModel",
            "_view_count": null,
            "_view_module": "@jupyter-widgets/controls",
            "_view_module_version": "1.5.0",
            "_view_name": "HTMLView",
            "description": "",
            "description_tooltip": null,
            "layout": "IPY_MODEL_b096c5a7f95f479c8173aa726acf0b84",
            "placeholder": "​",
            "style": "IPY_MODEL_72a333d23b114ebdbb6096ed0de04938",
            "value": "Processing: 100%"
          }
        },
        "4818c0f0e0904ca79d2163e610aae1e9": {
          "model_module": "@jupyter-widgets/controls",
          "model_name": "FloatProgressModel",
          "model_module_version": "1.5.0",
          "state": {
            "_dom_classes": [],
            "_model_module": "@jupyter-widgets/controls",
            "_model_module_version": "1.5.0",
            "_model_name": "FloatProgressModel",
            "_view_count": null,
            "_view_module": "@jupyter-widgets/controls",
            "_view_module_version": "1.5.0",
            "_view_name": "ProgressView",
            "bar_style": "",
            "description": "",
            "description_tooltip": null,
            "layout": "IPY_MODEL_71167e1c0c4e4224accb6145324dcaf0",
            "max": 81,
            "min": 0,
            "orientation": "horizontal",
            "style": "IPY_MODEL_d7685a760be9458e80a69d0af508626e",
            "value": 81
          }
        },
        "5d37b126fe4d40cc87fb087567ef75e1": {
          "model_module": "@jupyter-widgets/controls",
          "model_name": "HTMLModel",
          "model_module_version": "1.5.0",
          "state": {
            "_dom_classes": [],
            "_model_module": "@jupyter-widgets/controls",
            "_model_module_version": "1.5.0",
            "_model_name": "HTMLModel",
            "_view_count": null,
            "_view_module": "@jupyter-widgets/controls",
            "_view_module_version": "1.5.0",
            "_view_name": "HTMLView",
            "description": "",
            "description_tooltip": null,
            "layout": "IPY_MODEL_e0d0fc77a01444e5a874aa663240f864",
            "placeholder": "​",
            "style": "IPY_MODEL_906d9e88d4804bfba5054b8c80c9d168",
            "value": " 81/81 [02:55&lt;00:00,  1.48s/it]"
          }
        },
        "d2446ef6591c4fe9a35fbe49b0dfe571": {
          "model_module": "@jupyter-widgets/base",
          "model_name": "LayoutModel",
          "model_module_version": "1.2.0",
          "state": {
            "_model_module": "@jupyter-widgets/base",
            "_model_module_version": "1.2.0",
            "_model_name": "LayoutModel",
            "_view_count": null,
            "_view_module": "@jupyter-widgets/base",
            "_view_module_version": "1.2.0",
            "_view_name": "LayoutView",
            "align_content": null,
            "align_items": null,
            "align_self": null,
            "border": null,
            "bottom": null,
            "display": null,
            "flex": null,
            "flex_flow": null,
            "grid_area": null,
            "grid_auto_columns": null,
            "grid_auto_flow": null,
            "grid_auto_rows": null,
            "grid_column": null,
            "grid_gap": null,
            "grid_row": null,
            "grid_template_areas": null,
            "grid_template_columns": null,
            "grid_template_rows": null,
            "height": null,
            "justify_content": null,
            "justify_items": null,
            "left": null,
            "margin": null,
            "max_height": null,
            "max_width": null,
            "min_height": null,
            "min_width": null,
            "object_fit": null,
            "object_position": null,
            "order": null,
            "overflow": null,
            "overflow_x": null,
            "overflow_y": null,
            "padding": null,
            "right": null,
            "top": null,
            "visibility": "hidden",
            "width": null
          }
        },
        "b096c5a7f95f479c8173aa726acf0b84": {
          "model_module": "@jupyter-widgets/base",
          "model_name": "LayoutModel",
          "model_module_version": "1.2.0",
          "state": {
            "_model_module": "@jupyter-widgets/base",
            "_model_module_version": "1.2.0",
            "_model_name": "LayoutModel",
            "_view_count": null,
            "_view_module": "@jupyter-widgets/base",
            "_view_module_version": "1.2.0",
            "_view_name": "LayoutView",
            "align_content": null,
            "align_items": null,
            "align_self": null,
            "border": null,
            "bottom": null,
            "display": null,
            "flex": null,
            "flex_flow": null,
            "grid_area": null,
            "grid_auto_columns": null,
            "grid_auto_flow": null,
            "grid_auto_rows": null,
            "grid_column": null,
            "grid_gap": null,
            "grid_row": null,
            "grid_template_areas": null,
            "grid_template_columns": null,
            "grid_template_rows": null,
            "height": null,
            "justify_content": null,
            "justify_items": null,
            "left": null,
            "margin": null,
            "max_height": null,
            "max_width": null,
            "min_height": null,
            "min_width": null,
            "object_fit": null,
            "object_position": null,
            "order": null,
            "overflow": null,
            "overflow_x": null,
            "overflow_y": null,
            "padding": null,
            "right": null,
            "top": null,
            "visibility": null,
            "width": null
          }
        },
        "72a333d23b114ebdbb6096ed0de04938": {
          "model_module": "@jupyter-widgets/controls",
          "model_name": "DescriptionStyleModel",
          "model_module_version": "1.5.0",
          "state": {
            "_model_module": "@jupyter-widgets/controls",
            "_model_module_version": "1.5.0",
            "_model_name": "DescriptionStyleModel",
            "_view_count": null,
            "_view_module": "@jupyter-widgets/base",
            "_view_module_version": "1.2.0",
            "_view_name": "StyleView",
            "description_width": ""
          }
        },
        "71167e1c0c4e4224accb6145324dcaf0": {
          "model_module": "@jupyter-widgets/base",
          "model_name": "LayoutModel",
          "model_module_version": "1.2.0",
          "state": {
            "_model_module": "@jupyter-widgets/base",
            "_model_module_version": "1.2.0",
            "_model_name": "LayoutModel",
            "_view_count": null,
            "_view_module": "@jupyter-widgets/base",
            "_view_module_version": "1.2.0",
            "_view_name": "LayoutView",
            "align_content": null,
            "align_items": null,
            "align_self": null,
            "border": null,
            "bottom": null,
            "display": null,
            "flex": null,
            "flex_flow": null,
            "grid_area": null,
            "grid_auto_columns": null,
            "grid_auto_flow": null,
            "grid_auto_rows": null,
            "grid_column": null,
            "grid_gap": null,
            "grid_row": null,
            "grid_template_areas": null,
            "grid_template_columns": null,
            "grid_template_rows": null,
            "height": null,
            "justify_content": null,
            "justify_items": null,
            "left": null,
            "margin": null,
            "max_height": null,
            "max_width": null,
            "min_height": null,
            "min_width": null,
            "object_fit": null,
            "object_position": null,
            "order": null,
            "overflow": null,
            "overflow_x": null,
            "overflow_y": null,
            "padding": null,
            "right": null,
            "top": null,
            "visibility": null,
            "width": null
          }
        },
        "d7685a760be9458e80a69d0af508626e": {
          "model_module": "@jupyter-widgets/controls",
          "model_name": "ProgressStyleModel",
          "model_module_version": "1.5.0",
          "state": {
            "_model_module": "@jupyter-widgets/controls",
            "_model_module_version": "1.5.0",
            "_model_name": "ProgressStyleModel",
            "_view_count": null,
            "_view_module": "@jupyter-widgets/base",
            "_view_module_version": "1.2.0",
            "_view_name": "StyleView",
            "bar_color": null,
            "description_width": ""
          }
        },
        "e0d0fc77a01444e5a874aa663240f864": {
          "model_module": "@jupyter-widgets/base",
          "model_name": "LayoutModel",
          "model_module_version": "1.2.0",
          "state": {
            "_model_module": "@jupyter-widgets/base",
            "_model_module_version": "1.2.0",
            "_model_name": "LayoutModel",
            "_view_count": null,
            "_view_module": "@jupyter-widgets/base",
            "_view_module_version": "1.2.0",
            "_view_name": "LayoutView",
            "align_content": null,
            "align_items": null,
            "align_self": null,
            "border": null,
            "bottom": null,
            "display": null,
            "flex": null,
            "flex_flow": null,
            "grid_area": null,
            "grid_auto_columns": null,
            "grid_auto_flow": null,
            "grid_auto_rows": null,
            "grid_column": null,
            "grid_gap": null,
            "grid_row": null,
            "grid_template_areas": null,
            "grid_template_columns": null,
            "grid_template_rows": null,
            "height": null,
            "justify_content": null,
            "justify_items": null,
            "left": null,
            "margin": null,
            "max_height": null,
            "max_width": null,
            "min_height": null,
            "min_width": null,
            "object_fit": null,
            "object_position": null,
            "order": null,
            "overflow": null,
            "overflow_x": null,
            "overflow_y": null,
            "padding": null,
            "right": null,
            "top": null,
            "visibility": null,
            "width": null
          }
        },
        "906d9e88d4804bfba5054b8c80c9d168": {
          "model_module": "@jupyter-widgets/controls",
          "model_name": "DescriptionStyleModel",
          "model_module_version": "1.5.0",
          "state": {
            "_model_module": "@jupyter-widgets/controls",
            "_model_module_version": "1.5.0",
            "_model_name": "DescriptionStyleModel",
            "_view_count": null,
            "_view_module": "@jupyter-widgets/base",
            "_view_module_version": "1.2.0",
            "_view_name": "StyleView",
            "description_width": ""
          }
        },
        "c7a01f379f474607958a6ab709a563b5": {
          "model_module": "@jupyter-widgets/controls",
          "model_name": "VBoxModel",
          "model_module_version": "1.5.0",
          "state": {
            "_dom_classes": [
              "widget-interact"
            ],
            "_model_module": "@jupyter-widgets/controls",
            "_model_module_version": "1.5.0",
            "_model_name": "VBoxModel",
            "_view_count": null,
            "_view_module": "@jupyter-widgets/controls",
            "_view_module_version": "1.5.0",
            "_view_name": "VBoxView",
            "box_style": "",
            "children": [
              "IPY_MODEL_3c2c4e8d1ff94cbbbec8f70b68eeb934",
              "IPY_MODEL_90b7a3449394406d83db4df38c18287d"
            ],
            "layout": "IPY_MODEL_ddc631d9d75445d5a3e98d2f33ed5740"
          }
        },
        "3c2c4e8d1ff94cbbbec8f70b68eeb934": {
          "model_module": "@jupyter-widgets/controls",
          "model_name": "ToggleButtonsModel",
          "model_module_version": "1.5.0",
          "state": {
            "_dom_classes": [],
            "_model_module": "@jupyter-widgets/controls",
            "_model_module_version": "1.5.0",
            "_model_name": "ToggleButtonsModel",
            "_options_labels": [
              "Pipeline Plot",
              "Hyperparameters",
              "Residuals",
              "Prediction Error",
              "Cooks Distance",
              "Feature Selection",
              "Learning Curve",
              "Manifold Learning",
              "Validation Curve",
              "Feature Importance",
              "Feature Importance (All)",
              "Decision Tree",
              "Interactive Residuals"
            ],
            "_view_count": null,
            "_view_module": "@jupyter-widgets/controls",
            "_view_module_version": "1.5.0",
            "_view_name": "ToggleButtonsView",
            "button_style": "",
            "description": "Plot Type:",
            "description_tooltip": null,
            "disabled": false,
            "icons": [
              ""
            ],
            "index": 0,
            "layout": "IPY_MODEL_d9bcf1c2d63f4d62ad6810f35c0d6e9f",
            "style": "IPY_MODEL_0095c4f15bcc4d5f955d959e9e1f0502",
            "tooltips": []
          }
        },
        "90b7a3449394406d83db4df38c18287d": {
          "model_module": "@jupyter-widgets/output",
          "model_name": "OutputModel",
          "model_module_version": "1.0.0",
          "state": {
            "_dom_classes": [],
            "_model_module": "@jupyter-widgets/output",
            "_model_module_version": "1.0.0",
            "_model_name": "OutputModel",
            "_view_count": null,
            "_view_module": "@jupyter-widgets/output",
            "_view_module_version": "1.0.0",
            "_view_name": "OutputView",
            "layout": "IPY_MODEL_cb24dcaf288e4a21be88cf617a250fe3",
            "msg_id": "",
            "outputs": [
              {
                "output_type": "display_data",
                "data": {
                  "text/plain": "<Figure size 1700x600 with 1 Axes>",
                  "image/png": "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\n"
                },
                "metadata": {}
              }
            ]
          }
        },
        "ddc631d9d75445d5a3e98d2f33ed5740": {
          "model_module": "@jupyter-widgets/base",
          "model_name": "LayoutModel",
          "model_module_version": "1.2.0",
          "state": {
            "_model_module": "@jupyter-widgets/base",
            "_model_module_version": "1.2.0",
            "_model_name": "LayoutModel",
            "_view_count": null,
            "_view_module": "@jupyter-widgets/base",
            "_view_module_version": "1.2.0",
            "_view_name": "LayoutView",
            "align_content": null,
            "align_items": null,
            "align_self": null,
            "border": null,
            "bottom": null,
            "display": null,
            "flex": null,
            "flex_flow": null,
            "grid_area": null,
            "grid_auto_columns": null,
            "grid_auto_flow": null,
            "grid_auto_rows": null,
            "grid_column": null,
            "grid_gap": null,
            "grid_row": null,
            "grid_template_areas": null,
            "grid_template_columns": null,
            "grid_template_rows": null,
            "height": null,
            "justify_content": null,
            "justify_items": null,
            "left": null,
            "margin": null,
            "max_height": null,
            "max_width": null,
            "min_height": null,
            "min_width": null,
            "object_fit": null,
            "object_position": null,
            "order": null,
            "overflow": null,
            "overflow_x": null,
            "overflow_y": null,
            "padding": null,
            "right": null,
            "top": null,
            "visibility": null,
            "width": null
          }
        },
        "d9bcf1c2d63f4d62ad6810f35c0d6e9f": {
          "model_module": "@jupyter-widgets/base",
          "model_name": "LayoutModel",
          "model_module_version": "1.2.0",
          "state": {
            "_model_module": "@jupyter-widgets/base",
            "_model_module_version": "1.2.0",
            "_model_name": "LayoutModel",
            "_view_count": null,
            "_view_module": "@jupyter-widgets/base",
            "_view_module_version": "1.2.0",
            "_view_name": "LayoutView",
            "align_content": null,
            "align_items": null,
            "align_self": null,
            "border": null,
            "bottom": null,
            "display": null,
            "flex": null,
            "flex_flow": null,
            "grid_area": null,
            "grid_auto_columns": null,
            "grid_auto_flow": null,
            "grid_auto_rows": null,
            "grid_column": null,
            "grid_gap": null,
            "grid_row": null,
            "grid_template_areas": null,
            "grid_template_columns": null,
            "grid_template_rows": null,
            "height": null,
            "justify_content": null,
            "justify_items": null,
            "left": null,
            "margin": null,
            "max_height": null,
            "max_width": null,
            "min_height": null,
            "min_width": null,
            "object_fit": null,
            "object_position": null,
            "order": null,
            "overflow": null,
            "overflow_x": null,
            "overflow_y": null,
            "padding": null,
            "right": null,
            "top": null,
            "visibility": null,
            "width": null
          }
        },
        "0095c4f15bcc4d5f955d959e9e1f0502": {
          "model_module": "@jupyter-widgets/controls",
          "model_name": "ToggleButtonsStyleModel",
          "model_module_version": "1.5.0",
          "state": {
            "_model_module": "@jupyter-widgets/controls",
            "_model_module_version": "1.5.0",
            "_model_name": "ToggleButtonsStyleModel",
            "_view_count": null,
            "_view_module": "@jupyter-widgets/base",
            "_view_module_version": "1.2.0",
            "_view_name": "StyleView",
            "button_width": "",
            "description_width": "",
            "font_weight": ""
          }
        },
        "cb24dcaf288e4a21be88cf617a250fe3": {
          "model_module": "@jupyter-widgets/base",
          "model_name": "LayoutModel",
          "model_module_version": "1.2.0",
          "state": {
            "_model_module": "@jupyter-widgets/base",
            "_model_module_version": "1.2.0",
            "_model_name": "LayoutModel",
            "_view_count": null,
            "_view_module": "@jupyter-widgets/base",
            "_view_module_version": "1.2.0",
            "_view_name": "LayoutView",
            "align_content": null,
            "align_items": null,
            "align_self": null,
            "border": null,
            "bottom": null,
            "display": null,
            "flex": null,
            "flex_flow": null,
            "grid_area": null,
            "grid_auto_columns": null,
            "grid_auto_flow": null,
            "grid_auto_rows": null,
            "grid_column": null,
            "grid_gap": null,
            "grid_row": null,
            "grid_template_areas": null,
            "grid_template_columns": null,
            "grid_template_rows": null,
            "height": null,
            "justify_content": null,
            "justify_items": null,
            "left": null,
            "margin": null,
            "max_height": null,
            "max_width": null,
            "min_height": null,
            "min_width": null,
            "object_fit": null,
            "object_position": null,
            "order": null,
            "overflow": null,
            "overflow_x": null,
            "overflow_y": null,
            "padding": null,
            "right": null,
            "top": null,
            "visibility": null,
            "width": null
          }
        }
      }
    }
  },
  "cells": [
    {
      "cell_type": "markdown",
      "metadata": {
        "id": "view-in-github",
        "colab_type": "text"
      },
      "source": [
        "<a href=\"https://colab.research.google.com/github/neel26desai/cmpe255_assignment2/blob/main/Regression.ipynb\" target=\"_parent\"><img src=\"https://colab.research.google.com/assets/colab-badge.svg\" alt=\"Open In Colab\"/></a>"
      ]
    },
    {
      "cell_type": "code",
      "execution_count": null,
      "metadata": {
        "id": "cPDVUwU2q_wH"
      },
      "outputs": [],
      "source": [
        "!pip install pycaret"
      ]
    },
    {
      "cell_type": "code",
      "source": [
        "# check installed version (must be >3.0)\n",
        "import pycaret\n",
        "pycaret.__version__"
      ],
      "metadata": {
        "colab": {
          "base_uri": "https://localhost:8080/",
          "height": 35
        },
        "id": "-2lS9YFwtjFw",
        "outputId": "b3e4b07f-a2fb-4b5d-c74e-62dac57d15ed"
      },
      "execution_count": 5,
      "outputs": [
        {
          "output_type": "execute_result",
          "data": {
            "text/plain": [
              "'3.0.4'"
            ],
            "application/vnd.google.colaboratory.intrinsic+json": {
              "type": "string"
            }
          },
          "metadata": {},
          "execution_count": 5
        }
      ]
    },
    {
      "cell_type": "code",
      "source": [
        "from google.colab import drive\n",
        "drive.mount('/content/drive')"
      ],
      "metadata": {
        "colab": {
          "base_uri": "https://localhost:8080/"
        },
        "id": "_RqXE7jCsxC7",
        "outputId": "d3f03084-86e8-4fe8-8577-7ae05be681a3"
      },
      "execution_count": 2,
      "outputs": [
        {
          "output_type": "stream",
          "name": "stdout",
          "text": [
            "Mounted at /content/drive\n"
          ]
        }
      ]
    },
    {
      "cell_type": "code",
      "source": [
        "from sklearn.datasets import fetch_california_housing\n",
        "import pandas as pd"
      ],
      "metadata": {
        "id": "wVMRoG7PtNJr"
      },
      "execution_count": 3,
      "outputs": []
    },
    {
      "cell_type": "code",
      "source": [
        "# Fetch the California housing dataset\n",
        "california_housing = fetch_california_housing()\n",
        "\n",
        "# Convert it to a pandas DataFrame\n",
        "data = pd.DataFrame(california_housing.data, columns=california_housing.feature_names)\n",
        "#the target represents median house values for California districts, expressed in units of 100,000 USD. This means that a target value of 1.5 represents a median house value of 150,000 USD.\n",
        "data['Target'] = california_housing.target"
      ],
      "metadata": {
        "id": "kpI444hmtVYS"
      },
      "execution_count": 4,
      "outputs": []
    },
    {
      "cell_type": "code",
      "source": [
        "# import RegressionExperiment and init the class\n",
        "from pycaret.regression import RegressionExperiment\n"
      ],
      "metadata": {
        "id": "1DMqJYLltfwB"
      },
      "execution_count": 6,
      "outputs": []
    },
    {
      "cell_type": "code",
      "source": [
        "exp = RegressionExperiment()"
      ],
      "metadata": {
        "id": "EfZoPGfHtqDF"
      },
      "execution_count": 7,
      "outputs": []
    },
    {
      "cell_type": "code",
      "source": [
        "#set up the experiment\n",
        "exp.setup(data,target=\"Target\",normalize=True,session_id=500)"
      ],
      "metadata": {
        "colab": {
          "base_uri": "https://localhost:8080/",
          "height": 725
        },
        "id": "AhDzZmNYtrQe",
        "outputId": "14a859b1-1f0c-4e3b-d2e1-8c5afe034bda"
      },
      "execution_count": 30,
      "outputs": [
        {
          "output_type": "display_data",
          "data": {
            "text/plain": [
              "<pandas.io.formats.style.Styler at 0x7d86b0f63a30>"
            ],
            "text/html": [
              "<style type=\"text/css\">\n",
              "#T_c1ad9_row8_col1, #T_c1ad9_row12_col1 {\n",
              "  background-color: lightgreen;\n",
              "}\n",
              "</style>\n",
              "<table id=\"T_c1ad9\" class=\"dataframe\">\n",
              "  <thead>\n",
              "    <tr>\n",
              "      <th class=\"blank level0\" >&nbsp;</th>\n",
              "      <th id=\"T_c1ad9_level0_col0\" class=\"col_heading level0 col0\" >Description</th>\n",
              "      <th id=\"T_c1ad9_level0_col1\" class=\"col_heading level0 col1\" >Value</th>\n",
              "    </tr>\n",
              "  </thead>\n",
              "  <tbody>\n",
              "    <tr>\n",
              "      <th id=\"T_c1ad9_level0_row0\" class=\"row_heading level0 row0\" >0</th>\n",
              "      <td id=\"T_c1ad9_row0_col0\" class=\"data row0 col0\" >Session id</td>\n",
              "      <td id=\"T_c1ad9_row0_col1\" class=\"data row0 col1\" >500</td>\n",
              "    </tr>\n",
              "    <tr>\n",
              "      <th id=\"T_c1ad9_level0_row1\" class=\"row_heading level0 row1\" >1</th>\n",
              "      <td id=\"T_c1ad9_row1_col0\" class=\"data row1 col0\" >Target</td>\n",
              "      <td id=\"T_c1ad9_row1_col1\" class=\"data row1 col1\" >Target</td>\n",
              "    </tr>\n",
              "    <tr>\n",
              "      <th id=\"T_c1ad9_level0_row2\" class=\"row_heading level0 row2\" >2</th>\n",
              "      <td id=\"T_c1ad9_row2_col0\" class=\"data row2 col0\" >Target type</td>\n",
              "      <td id=\"T_c1ad9_row2_col1\" class=\"data row2 col1\" >Regression</td>\n",
              "    </tr>\n",
              "    <tr>\n",
              "      <th id=\"T_c1ad9_level0_row3\" class=\"row_heading level0 row3\" >3</th>\n",
              "      <td id=\"T_c1ad9_row3_col0\" class=\"data row3 col0\" >Original data shape</td>\n",
              "      <td id=\"T_c1ad9_row3_col1\" class=\"data row3 col1\" >(20640, 9)</td>\n",
              "    </tr>\n",
              "    <tr>\n",
              "      <th id=\"T_c1ad9_level0_row4\" class=\"row_heading level0 row4\" >4</th>\n",
              "      <td id=\"T_c1ad9_row4_col0\" class=\"data row4 col0\" >Transformed data shape</td>\n",
              "      <td id=\"T_c1ad9_row4_col1\" class=\"data row4 col1\" >(20640, 9)</td>\n",
              "    </tr>\n",
              "    <tr>\n",
              "      <th id=\"T_c1ad9_level0_row5\" class=\"row_heading level0 row5\" >5</th>\n",
              "      <td id=\"T_c1ad9_row5_col0\" class=\"data row5 col0\" >Transformed train set shape</td>\n",
              "      <td id=\"T_c1ad9_row5_col1\" class=\"data row5 col1\" >(14447, 9)</td>\n",
              "    </tr>\n",
              "    <tr>\n",
              "      <th id=\"T_c1ad9_level0_row6\" class=\"row_heading level0 row6\" >6</th>\n",
              "      <td id=\"T_c1ad9_row6_col0\" class=\"data row6 col0\" >Transformed test set shape</td>\n",
              "      <td id=\"T_c1ad9_row6_col1\" class=\"data row6 col1\" >(6193, 9)</td>\n",
              "    </tr>\n",
              "    <tr>\n",
              "      <th id=\"T_c1ad9_level0_row7\" class=\"row_heading level0 row7\" >7</th>\n",
              "      <td id=\"T_c1ad9_row7_col0\" class=\"data row7 col0\" >Numeric features</td>\n",
              "      <td id=\"T_c1ad9_row7_col1\" class=\"data row7 col1\" >8</td>\n",
              "    </tr>\n",
              "    <tr>\n",
              "      <th id=\"T_c1ad9_level0_row8\" class=\"row_heading level0 row8\" >8</th>\n",
              "      <td id=\"T_c1ad9_row8_col0\" class=\"data row8 col0\" >Preprocess</td>\n",
              "      <td id=\"T_c1ad9_row8_col1\" class=\"data row8 col1\" >True</td>\n",
              "    </tr>\n",
              "    <tr>\n",
              "      <th id=\"T_c1ad9_level0_row9\" class=\"row_heading level0 row9\" >9</th>\n",
              "      <td id=\"T_c1ad9_row9_col0\" class=\"data row9 col0\" >Imputation type</td>\n",
              "      <td id=\"T_c1ad9_row9_col1\" class=\"data row9 col1\" >simple</td>\n",
              "    </tr>\n",
              "    <tr>\n",
              "      <th id=\"T_c1ad9_level0_row10\" class=\"row_heading level0 row10\" >10</th>\n",
              "      <td id=\"T_c1ad9_row10_col0\" class=\"data row10 col0\" >Numeric imputation</td>\n",
              "      <td id=\"T_c1ad9_row10_col1\" class=\"data row10 col1\" >mean</td>\n",
              "    </tr>\n",
              "    <tr>\n",
              "      <th id=\"T_c1ad9_level0_row11\" class=\"row_heading level0 row11\" >11</th>\n",
              "      <td id=\"T_c1ad9_row11_col0\" class=\"data row11 col0\" >Categorical imputation</td>\n",
              "      <td id=\"T_c1ad9_row11_col1\" class=\"data row11 col1\" >mode</td>\n",
              "    </tr>\n",
              "    <tr>\n",
              "      <th id=\"T_c1ad9_level0_row12\" class=\"row_heading level0 row12\" >12</th>\n",
              "      <td id=\"T_c1ad9_row12_col0\" class=\"data row12 col0\" >Normalize</td>\n",
              "      <td id=\"T_c1ad9_row12_col1\" class=\"data row12 col1\" >True</td>\n",
              "    </tr>\n",
              "    <tr>\n",
              "      <th id=\"T_c1ad9_level0_row13\" class=\"row_heading level0 row13\" >13</th>\n",
              "      <td id=\"T_c1ad9_row13_col0\" class=\"data row13 col0\" >Normalize method</td>\n",
              "      <td id=\"T_c1ad9_row13_col1\" class=\"data row13 col1\" >zscore</td>\n",
              "    </tr>\n",
              "    <tr>\n",
              "      <th id=\"T_c1ad9_level0_row14\" class=\"row_heading level0 row14\" >14</th>\n",
              "      <td id=\"T_c1ad9_row14_col0\" class=\"data row14 col0\" >Fold Generator</td>\n",
              "      <td id=\"T_c1ad9_row14_col1\" class=\"data row14 col1\" >KFold</td>\n",
              "    </tr>\n",
              "    <tr>\n",
              "      <th id=\"T_c1ad9_level0_row15\" class=\"row_heading level0 row15\" >15</th>\n",
              "      <td id=\"T_c1ad9_row15_col0\" class=\"data row15 col0\" >Fold Number</td>\n",
              "      <td id=\"T_c1ad9_row15_col1\" class=\"data row15 col1\" >10</td>\n",
              "    </tr>\n",
              "    <tr>\n",
              "      <th id=\"T_c1ad9_level0_row16\" class=\"row_heading level0 row16\" >16</th>\n",
              "      <td id=\"T_c1ad9_row16_col0\" class=\"data row16 col0\" >CPU Jobs</td>\n",
              "      <td id=\"T_c1ad9_row16_col1\" class=\"data row16 col1\" >-1</td>\n",
              "    </tr>\n",
              "    <tr>\n",
              "      <th id=\"T_c1ad9_level0_row17\" class=\"row_heading level0 row17\" >17</th>\n",
              "      <td id=\"T_c1ad9_row17_col0\" class=\"data row17 col0\" >Use GPU</td>\n",
              "      <td id=\"T_c1ad9_row17_col1\" class=\"data row17 col1\" >False</td>\n",
              "    </tr>\n",
              "    <tr>\n",
              "      <th id=\"T_c1ad9_level0_row18\" class=\"row_heading level0 row18\" >18</th>\n",
              "      <td id=\"T_c1ad9_row18_col0\" class=\"data row18 col0\" >Log Experiment</td>\n",
              "      <td id=\"T_c1ad9_row18_col1\" class=\"data row18 col1\" >False</td>\n",
              "    </tr>\n",
              "    <tr>\n",
              "      <th id=\"T_c1ad9_level0_row19\" class=\"row_heading level0 row19\" >19</th>\n",
              "      <td id=\"T_c1ad9_row19_col0\" class=\"data row19 col0\" >Experiment Name</td>\n",
              "      <td id=\"T_c1ad9_row19_col1\" class=\"data row19 col1\" >reg-default-name</td>\n",
              "    </tr>\n",
              "    <tr>\n",
              "      <th id=\"T_c1ad9_level0_row20\" class=\"row_heading level0 row20\" >20</th>\n",
              "      <td id=\"T_c1ad9_row20_col0\" class=\"data row20 col0\" >USI</td>\n",
              "      <td id=\"T_c1ad9_row20_col1\" class=\"data row20 col1\" >2cb8</td>\n",
              "    </tr>\n",
              "  </tbody>\n",
              "</table>\n"
            ]
          },
          "metadata": {}
        },
        {
          "output_type": "execute_result",
          "data": {
            "text/plain": [
              "<pycaret.regression.oop.RegressionExperiment at 0x7d86b35498a0>"
            ]
          },
          "metadata": {},
          "execution_count": 30
        }
      ]
    },
    {
      "cell_type": "code",
      "source": [
        "#comparing the baseline models\n",
        "baseline_model = exp.compare_models()"
      ],
      "metadata": {
        "colab": {
          "base_uri": "https://localhost:8080/",
          "height": 645,
          "referenced_widgets": [
            "b9bf112d0b1547199e594e5e5bde45e0",
            "d57848db059744d48988bd2b006879a1",
            "4818c0f0e0904ca79d2163e610aae1e9",
            "5d37b126fe4d40cc87fb087567ef75e1",
            "d2446ef6591c4fe9a35fbe49b0dfe571",
            "b096c5a7f95f479c8173aa726acf0b84",
            "72a333d23b114ebdbb6096ed0de04938",
            "71167e1c0c4e4224accb6145324dcaf0",
            "d7685a760be9458e80a69d0af508626e",
            "e0d0fc77a01444e5a874aa663240f864",
            "906d9e88d4804bfba5054b8c80c9d168"
          ]
        },
        "id": "BZvaDPZTt3dl",
        "outputId": "85c5e2a6-82a0-4423-d992-297a4f8ac37a"
      },
      "execution_count": 31,
      "outputs": [
        {
          "output_type": "display_data",
          "data": {
            "text/plain": [
              "<IPython.core.display.HTML object>"
            ],
            "text/html": []
          },
          "metadata": {}
        },
        {
          "output_type": "display_data",
          "data": {
            "text/plain": [
              "<pandas.io.formats.style.Styler at 0x7d86b10bd0f0>"
            ],
            "text/html": [
              "<style type=\"text/css\">\n",
              "#T_8680a th {\n",
              "  text-align: left;\n",
              "}\n",
              "#T_8680a_row0_col0, #T_8680a_row1_col0, #T_8680a_row1_col1, #T_8680a_row1_col2, #T_8680a_row1_col3, #T_8680a_row1_col4, #T_8680a_row1_col5, #T_8680a_row1_col6, #T_8680a_row2_col0, #T_8680a_row2_col1, #T_8680a_row2_col2, #T_8680a_row2_col3, #T_8680a_row2_col4, #T_8680a_row2_col5, #T_8680a_row2_col6, #T_8680a_row3_col0, #T_8680a_row3_col1, #T_8680a_row3_col2, #T_8680a_row3_col3, #T_8680a_row3_col4, #T_8680a_row3_col5, #T_8680a_row3_col6, #T_8680a_row4_col0, #T_8680a_row4_col1, #T_8680a_row4_col2, #T_8680a_row4_col3, #T_8680a_row4_col4, #T_8680a_row4_col5, #T_8680a_row4_col6, #T_8680a_row5_col0, #T_8680a_row5_col1, #T_8680a_row5_col2, #T_8680a_row5_col3, #T_8680a_row5_col4, #T_8680a_row5_col5, #T_8680a_row5_col6, #T_8680a_row6_col0, #T_8680a_row6_col1, #T_8680a_row6_col2, #T_8680a_row6_col3, #T_8680a_row6_col4, #T_8680a_row6_col5, #T_8680a_row6_col6, #T_8680a_row7_col0, #T_8680a_row7_col1, #T_8680a_row7_col2, #T_8680a_row7_col3, #T_8680a_row7_col4, #T_8680a_row7_col5, #T_8680a_row7_col6, #T_8680a_row8_col0, #T_8680a_row8_col1, #T_8680a_row8_col2, #T_8680a_row8_col3, #T_8680a_row8_col4, #T_8680a_row8_col5, #T_8680a_row8_col6, #T_8680a_row9_col0, #T_8680a_row9_col1, #T_8680a_row9_col2, #T_8680a_row9_col3, #T_8680a_row9_col4, #T_8680a_row9_col5, #T_8680a_row9_col6, #T_8680a_row10_col0, #T_8680a_row10_col1, #T_8680a_row10_col2, #T_8680a_row10_col3, #T_8680a_row10_col4, #T_8680a_row10_col5, #T_8680a_row10_col6, #T_8680a_row11_col0, #T_8680a_row11_col1, #T_8680a_row11_col2, #T_8680a_row11_col3, #T_8680a_row11_col4, #T_8680a_row11_col5, #T_8680a_row11_col6, #T_8680a_row12_col0, #T_8680a_row12_col1, #T_8680a_row12_col2, #T_8680a_row12_col3, #T_8680a_row12_col4, #T_8680a_row12_col5, #T_8680a_row12_col6, #T_8680a_row13_col0, #T_8680a_row13_col1, #T_8680a_row13_col2, #T_8680a_row13_col3, #T_8680a_row13_col4, #T_8680a_row13_col5, #T_8680a_row13_col6, #T_8680a_row14_col0, #T_8680a_row14_col1, #T_8680a_row14_col2, #T_8680a_row14_col3, #T_8680a_row14_col4, #T_8680a_row14_col5, #T_8680a_row14_col6, #T_8680a_row15_col0, #T_8680a_row15_col1, #T_8680a_row15_col2, #T_8680a_row15_col3, #T_8680a_row15_col4, #T_8680a_row15_col5, #T_8680a_row15_col6, #T_8680a_row16_col0, #T_8680a_row16_col1, #T_8680a_row16_col2, #T_8680a_row16_col3, #T_8680a_row16_col4, #T_8680a_row16_col5, #T_8680a_row16_col6, #T_8680a_row17_col0, #T_8680a_row17_col1, #T_8680a_row17_col2, #T_8680a_row17_col3, #T_8680a_row17_col4, #T_8680a_row17_col5, #T_8680a_row17_col6, #T_8680a_row18_col0, #T_8680a_row18_col1, #T_8680a_row18_col2, #T_8680a_row18_col3, #T_8680a_row18_col4, #T_8680a_row18_col5, #T_8680a_row18_col6 {\n",
              "  text-align: left;\n",
              "}\n",
              "#T_8680a_row0_col1, #T_8680a_row0_col2, #T_8680a_row0_col3, #T_8680a_row0_col4, #T_8680a_row0_col5, #T_8680a_row0_col6 {\n",
              "  text-align: left;\n",
              "  background-color: yellow;\n",
              "}\n",
              "#T_8680a_row0_col7, #T_8680a_row1_col7, #T_8680a_row2_col7, #T_8680a_row3_col7, #T_8680a_row4_col7, #T_8680a_row5_col7, #T_8680a_row6_col7, #T_8680a_row8_col7, #T_8680a_row9_col7, #T_8680a_row10_col7, #T_8680a_row11_col7, #T_8680a_row12_col7, #T_8680a_row13_col7, #T_8680a_row14_col7, #T_8680a_row15_col7, #T_8680a_row16_col7, #T_8680a_row17_col7, #T_8680a_row18_col7 {\n",
              "  text-align: left;\n",
              "  background-color: lightgrey;\n",
              "}\n",
              "#T_8680a_row7_col7 {\n",
              "  text-align: left;\n",
              "  background-color: yellow;\n",
              "  background-color: lightgrey;\n",
              "}\n",
              "</style>\n",
              "<table id=\"T_8680a\" class=\"dataframe\">\n",
              "  <thead>\n",
              "    <tr>\n",
              "      <th class=\"blank level0\" >&nbsp;</th>\n",
              "      <th id=\"T_8680a_level0_col0\" class=\"col_heading level0 col0\" >Model</th>\n",
              "      <th id=\"T_8680a_level0_col1\" class=\"col_heading level0 col1\" >MAE</th>\n",
              "      <th id=\"T_8680a_level0_col2\" class=\"col_heading level0 col2\" >MSE</th>\n",
              "      <th id=\"T_8680a_level0_col3\" class=\"col_heading level0 col3\" >RMSE</th>\n",
              "      <th id=\"T_8680a_level0_col4\" class=\"col_heading level0 col4\" >R2</th>\n",
              "      <th id=\"T_8680a_level0_col5\" class=\"col_heading level0 col5\" >RMSLE</th>\n",
              "      <th id=\"T_8680a_level0_col6\" class=\"col_heading level0 col6\" >MAPE</th>\n",
              "      <th id=\"T_8680a_level0_col7\" class=\"col_heading level0 col7\" >TT (Sec)</th>\n",
              "    </tr>\n",
              "  </thead>\n",
              "  <tbody>\n",
              "    <tr>\n",
              "      <th id=\"T_8680a_level0_row0\" class=\"row_heading level0 row0\" >lightgbm</th>\n",
              "      <td id=\"T_8680a_row0_col0\" class=\"data row0 col0\" >Light Gradient Boosting Machine</td>\n",
              "      <td id=\"T_8680a_row0_col1\" class=\"data row0 col1\" >0.3155</td>\n",
              "      <td id=\"T_8680a_row0_col2\" class=\"data row0 col2\" >0.2217</td>\n",
              "      <td id=\"T_8680a_row0_col3\" class=\"data row0 col3\" >0.4705</td>\n",
              "      <td id=\"T_8680a_row0_col4\" class=\"data row0 col4\" >0.8333</td>\n",
              "      <td id=\"T_8680a_row0_col5\" class=\"data row0 col5\" >0.1427</td>\n",
              "      <td id=\"T_8680a_row0_col6\" class=\"data row0 col6\" >0.1783</td>\n",
              "      <td id=\"T_8680a_row0_col7\" class=\"data row0 col7\" >1.8740</td>\n",
              "    </tr>\n",
              "    <tr>\n",
              "      <th id=\"T_8680a_level0_row1\" class=\"row_heading level0 row1\" >xgboost</th>\n",
              "      <td id=\"T_8680a_row1_col0\" class=\"data row1 col0\" >Extreme Gradient Boosting</td>\n",
              "      <td id=\"T_8680a_row1_col1\" class=\"data row1 col1\" >0.3206</td>\n",
              "      <td id=\"T_8680a_row1_col2\" class=\"data row1 col2\" >0.2324</td>\n",
              "      <td id=\"T_8680a_row1_col3\" class=\"data row1 col3\" >0.4817</td>\n",
              "      <td id=\"T_8680a_row1_col4\" class=\"data row1 col4\" >0.8251</td>\n",
              "      <td id=\"T_8680a_row1_col5\" class=\"data row1 col5\" >0.1463</td>\n",
              "      <td id=\"T_8680a_row1_col6\" class=\"data row1 col6\" >0.1801</td>\n",
              "      <td id=\"T_8680a_row1_col7\" class=\"data row1 col7\" >1.4860</td>\n",
              "    </tr>\n",
              "    <tr>\n",
              "      <th id=\"T_8680a_level0_row2\" class=\"row_heading level0 row2\" >et</th>\n",
              "      <td id=\"T_8680a_row2_col0\" class=\"data row2 col0\" >Extra Trees Regressor</td>\n",
              "      <td id=\"T_8680a_row2_col1\" class=\"data row2 col1\" >0.3301</td>\n",
              "      <td id=\"T_8680a_row2_col2\" class=\"data row2 col2\" >0.2525</td>\n",
              "      <td id=\"T_8680a_row2_col3\" class=\"data row2 col3\" >0.5022</td>\n",
              "      <td id=\"T_8680a_row2_col4\" class=\"data row2 col4\" >0.8101</td>\n",
              "      <td id=\"T_8680a_row2_col5\" class=\"data row2 col5\" >0.1480</td>\n",
              "      <td id=\"T_8680a_row2_col6\" class=\"data row2 col6\" >0.1832</td>\n",
              "      <td id=\"T_8680a_row2_col7\" class=\"data row2 col7\" >2.5320</td>\n",
              "    </tr>\n",
              "    <tr>\n",
              "      <th id=\"T_8680a_level0_row3\" class=\"row_heading level0 row3\" >rf</th>\n",
              "      <td id=\"T_8680a_row3_col0\" class=\"data row3 col0\" >Random Forest Regressor</td>\n",
              "      <td id=\"T_8680a_row3_col1\" class=\"data row3 col1\" >0.3370</td>\n",
              "      <td id=\"T_8680a_row3_col2\" class=\"data row3 col2\" >0.2637</td>\n",
              "      <td id=\"T_8680a_row3_col3\" class=\"data row3 col3\" >0.5131</td>\n",
              "      <td id=\"T_8680a_row3_col4\" class=\"data row3 col4\" >0.8017</td>\n",
              "      <td id=\"T_8680a_row3_col5\" class=\"data row3 col5\" >0.1533</td>\n",
              "      <td id=\"T_8680a_row3_col6\" class=\"data row3 col6\" >0.1909</td>\n",
              "      <td id=\"T_8680a_row3_col7\" class=\"data row3 col7\" >6.3960</td>\n",
              "    </tr>\n",
              "    <tr>\n",
              "      <th id=\"T_8680a_level0_row4\" class=\"row_heading level0 row4\" >gbr</th>\n",
              "      <td id=\"T_8680a_row4_col0\" class=\"data row4 col0\" >Gradient Boosting Regressor</td>\n",
              "      <td id=\"T_8680a_row4_col1\" class=\"data row4 col1\" >0.3716</td>\n",
              "      <td id=\"T_8680a_row4_col2\" class=\"data row4 col2\" >0.2887</td>\n",
              "      <td id=\"T_8680a_row4_col3\" class=\"data row4 col3\" >0.5370</td>\n",
              "      <td id=\"T_8680a_row4_col4\" class=\"data row4 col4\" >0.7831</td>\n",
              "      <td id=\"T_8680a_row4_col5\" class=\"data row4 col5\" >0.1641</td>\n",
              "      <td id=\"T_8680a_row4_col6\" class=\"data row4 col6\" >0.2125</td>\n",
              "      <td id=\"T_8680a_row4_col7\" class=\"data row4 col7\" >2.2800</td>\n",
              "    </tr>\n",
              "    <tr>\n",
              "      <th id=\"T_8680a_level0_row5\" class=\"row_heading level0 row5\" >knn</th>\n",
              "      <td id=\"T_8680a_row5_col0\" class=\"data row5 col0\" >K Neighbors Regressor</td>\n",
              "      <td id=\"T_8680a_row5_col1\" class=\"data row5 col1\" >0.4328</td>\n",
              "      <td id=\"T_8680a_row5_col2\" class=\"data row5 col2\" >0.4074</td>\n",
              "      <td id=\"T_8680a_row5_col3\" class=\"data row5 col3\" >0.6381</td>\n",
              "      <td id=\"T_8680a_row5_col4\" class=\"data row5 col4\" >0.6935</td>\n",
              "      <td id=\"T_8680a_row5_col5\" class=\"data row5 col5\" >0.1881</td>\n",
              "      <td id=\"T_8680a_row5_col6\" class=\"data row5 col6\" >0.2353</td>\n",
              "      <td id=\"T_8680a_row5_col7\" class=\"data row5 col7\" >0.1310</td>\n",
              "    </tr>\n",
              "    <tr>\n",
              "      <th id=\"T_8680a_level0_row6\" class=\"row_heading level0 row6\" >lar</th>\n",
              "      <td id=\"T_8680a_row6_col0\" class=\"data row6 col0\" >Least Angle Regression</td>\n",
              "      <td id=\"T_8680a_row6_col1\" class=\"data row6 col1\" >0.5335</td>\n",
              "      <td id=\"T_8680a_row6_col2\" class=\"data row6 col2\" >0.5344</td>\n",
              "      <td id=\"T_8680a_row6_col3\" class=\"data row6 col3\" >0.7307</td>\n",
              "      <td id=\"T_8680a_row6_col4\" class=\"data row6 col4\" >0.5981</td>\n",
              "      <td id=\"T_8680a_row6_col5\" class=\"data row6 col5\" >0.2244</td>\n",
              "      <td id=\"T_8680a_row6_col6\" class=\"data row6 col6\" >0.3183</td>\n",
              "      <td id=\"T_8680a_row6_col7\" class=\"data row6 col7\" >0.0610</td>\n",
              "    </tr>\n",
              "    <tr>\n",
              "      <th id=\"T_8680a_level0_row7\" class=\"row_heading level0 row7\" >br</th>\n",
              "      <td id=\"T_8680a_row7_col0\" class=\"data row7 col0\" >Bayesian Ridge</td>\n",
              "      <td id=\"T_8680a_row7_col1\" class=\"data row7 col1\" >0.5335</td>\n",
              "      <td id=\"T_8680a_row7_col2\" class=\"data row7 col2\" >0.5344</td>\n",
              "      <td id=\"T_8680a_row7_col3\" class=\"data row7 col3\" >0.7306</td>\n",
              "      <td id=\"T_8680a_row7_col4\" class=\"data row7 col4\" >0.5981</td>\n",
              "      <td id=\"T_8680a_row7_col5\" class=\"data row7 col5\" >0.2243</td>\n",
              "      <td id=\"T_8680a_row7_col6\" class=\"data row7 col6\" >0.3183</td>\n",
              "      <td id=\"T_8680a_row7_col7\" class=\"data row7 col7\" >0.0500</td>\n",
              "    </tr>\n",
              "    <tr>\n",
              "      <th id=\"T_8680a_level0_row8\" class=\"row_heading level0 row8\" >ridge</th>\n",
              "      <td id=\"T_8680a_row8_col0\" class=\"data row8 col0\" >Ridge Regression</td>\n",
              "      <td id=\"T_8680a_row8_col1\" class=\"data row8 col1\" >0.5335</td>\n",
              "      <td id=\"T_8680a_row8_col2\" class=\"data row8 col2\" >0.5344</td>\n",
              "      <td id=\"T_8680a_row8_col3\" class=\"data row8 col3\" >0.7307</td>\n",
              "      <td id=\"T_8680a_row8_col4\" class=\"data row8 col4\" >0.5981</td>\n",
              "      <td id=\"T_8680a_row8_col5\" class=\"data row8 col5\" >0.2244</td>\n",
              "      <td id=\"T_8680a_row8_col6\" class=\"data row8 col6\" >0.3183</td>\n",
              "      <td id=\"T_8680a_row8_col7\" class=\"data row8 col7\" >0.0550</td>\n",
              "    </tr>\n",
              "    <tr>\n",
              "      <th id=\"T_8680a_level0_row9\" class=\"row_heading level0 row9\" >lr</th>\n",
              "      <td id=\"T_8680a_row9_col0\" class=\"data row9 col0\" >Linear Regression</td>\n",
              "      <td id=\"T_8680a_row9_col1\" class=\"data row9 col1\" >0.5335</td>\n",
              "      <td id=\"T_8680a_row9_col2\" class=\"data row9 col2\" >0.5344</td>\n",
              "      <td id=\"T_8680a_row9_col3\" class=\"data row9 col3\" >0.7307</td>\n",
              "      <td id=\"T_8680a_row9_col4\" class=\"data row9 col4\" >0.5981</td>\n",
              "      <td id=\"T_8680a_row9_col5\" class=\"data row9 col5\" >0.2244</td>\n",
              "      <td id=\"T_8680a_row9_col6\" class=\"data row9 col6\" >0.3183</td>\n",
              "      <td id=\"T_8680a_row9_col7\" class=\"data row9 col7\" >0.6460</td>\n",
              "    </tr>\n",
              "    <tr>\n",
              "      <th id=\"T_8680a_level0_row10\" class=\"row_heading level0 row10\" >dt</th>\n",
              "      <td id=\"T_8680a_row10_col0\" class=\"data row10 col0\" >Decision Tree Regressor</td>\n",
              "      <td id=\"T_8680a_row10_col1\" class=\"data row10 col1\" >0.4711</td>\n",
              "      <td id=\"T_8680a_row10_col2\" class=\"data row10 col2\" >0.5368</td>\n",
              "      <td id=\"T_8680a_row10_col3\" class=\"data row10 col3\" >0.7322</td>\n",
              "      <td id=\"T_8680a_row10_col4\" class=\"data row10 col4\" >0.5955</td>\n",
              "      <td id=\"T_8680a_row10_col5\" class=\"data row10 col5\" >0.2153</td>\n",
              "      <td id=\"T_8680a_row10_col6\" class=\"data row10 col6\" >0.2575</td>\n",
              "      <td id=\"T_8680a_row10_col7\" class=\"data row10 col7\" >0.2280</td>\n",
              "    </tr>\n",
              "    <tr>\n",
              "      <th id=\"T_8680a_level0_row11\" class=\"row_heading level0 row11\" >omp</th>\n",
              "      <td id=\"T_8680a_row11_col0\" class=\"data row11 col0\" >Orthogonal Matching Pursuit</td>\n",
              "      <td id=\"T_8680a_row11_col1\" class=\"data row11 col1\" >0.6291</td>\n",
              "      <td id=\"T_8680a_row11_col2\" class=\"data row11 col2\" >0.7076</td>\n",
              "      <td id=\"T_8680a_row11_col3\" class=\"data row11 col3\" >0.8410</td>\n",
              "      <td id=\"T_8680a_row11_col4\" class=\"data row11 col4\" >0.4679</td>\n",
              "      <td id=\"T_8680a_row11_col5\" class=\"data row11 col5\" >0.2616</td>\n",
              "      <td id=\"T_8680a_row11_col6\" class=\"data row11 col6\" >0.3879</td>\n",
              "      <td id=\"T_8680a_row11_col7\" class=\"data row11 col7\" >0.0530</td>\n",
              "    </tr>\n",
              "    <tr>\n",
              "      <th id=\"T_8680a_level0_row12\" class=\"row_heading level0 row12\" >ada</th>\n",
              "      <td id=\"T_8680a_row12_col0\" class=\"data row12 col0\" >AdaBoost Regressor</td>\n",
              "      <td id=\"T_8680a_row12_col1\" class=\"data row12 col1\" >0.7312</td>\n",
              "      <td id=\"T_8680a_row12_col2\" class=\"data row12 col2\" >0.7319</td>\n",
              "      <td id=\"T_8680a_row12_col3\" class=\"data row12 col3\" >0.8550</td>\n",
              "      <td id=\"T_8680a_row12_col4\" class=\"data row12 col4\" >0.4483</td>\n",
              "      <td id=\"T_8680a_row12_col5\" class=\"data row12 col5\" >0.2914</td>\n",
              "      <td id=\"T_8680a_row12_col6\" class=\"data row12 col6\" >0.5421</td>\n",
              "      <td id=\"T_8680a_row12_col7\" class=\"data row12 col7\" >0.7790</td>\n",
              "    </tr>\n",
              "    <tr>\n",
              "      <th id=\"T_8680a_level0_row13\" class=\"row_heading level0 row13\" >en</th>\n",
              "      <td id=\"T_8680a_row13_col0\" class=\"data row13 col0\" >Elastic Net</td>\n",
              "      <td id=\"T_8680a_row13_col1\" class=\"data row13 col1\" >0.8138</td>\n",
              "      <td id=\"T_8680a_row13_col2\" class=\"data row13 col2\" >1.0636</td>\n",
              "      <td id=\"T_8680a_row13_col3\" class=\"data row13 col3\" >1.0311</td>\n",
              "      <td id=\"T_8680a_row13_col4\" class=\"data row13 col4\" >0.2009</td>\n",
              "      <td id=\"T_8680a_row13_col5\" class=\"data row13 col5\" >0.3243</td>\n",
              "      <td id=\"T_8680a_row13_col6\" class=\"data row13 col6\" >0.5503</td>\n",
              "      <td id=\"T_8680a_row13_col7\" class=\"data row13 col7\" >0.0510</td>\n",
              "    </tr>\n",
              "    <tr>\n",
              "      <th id=\"T_8680a_level0_row14\" class=\"row_heading level0 row14\" >lasso</th>\n",
              "      <td id=\"T_8680a_row14_col0\" class=\"data row14 col0\" >Lasso Regression</td>\n",
              "      <td id=\"T_8680a_row14_col1\" class=\"data row14 col1\" >0.9127</td>\n",
              "      <td id=\"T_8680a_row14_col2\" class=\"data row14 col2\" >1.3318</td>\n",
              "      <td id=\"T_8680a_row14_col3\" class=\"data row14 col3\" >1.1538</td>\n",
              "      <td id=\"T_8680a_row14_col4\" class=\"data row14 col4\" >-0.0007</td>\n",
              "      <td id=\"T_8680a_row14_col5\" class=\"data row14 col5\" >0.3620</td>\n",
              "      <td id=\"T_8680a_row14_col6\" class=\"data row14 col6\" >0.6204</td>\n",
              "      <td id=\"T_8680a_row14_col7\" class=\"data row14 col7\" >0.0590</td>\n",
              "    </tr>\n",
              "    <tr>\n",
              "      <th id=\"T_8680a_level0_row15\" class=\"row_heading level0 row15\" >llar</th>\n",
              "      <td id=\"T_8680a_row15_col0\" class=\"data row15 col0\" >Lasso Least Angle Regression</td>\n",
              "      <td id=\"T_8680a_row15_col1\" class=\"data row15 col1\" >0.9127</td>\n",
              "      <td id=\"T_8680a_row15_col2\" class=\"data row15 col2\" >1.3318</td>\n",
              "      <td id=\"T_8680a_row15_col3\" class=\"data row15 col3\" >1.1538</td>\n",
              "      <td id=\"T_8680a_row15_col4\" class=\"data row15 col4\" >-0.0007</td>\n",
              "      <td id=\"T_8680a_row15_col5\" class=\"data row15 col5\" >0.3620</td>\n",
              "      <td id=\"T_8680a_row15_col6\" class=\"data row15 col6\" >0.6204</td>\n",
              "      <td id=\"T_8680a_row15_col7\" class=\"data row15 col7\" >0.0580</td>\n",
              "    </tr>\n",
              "    <tr>\n",
              "      <th id=\"T_8680a_level0_row16\" class=\"row_heading level0 row16\" >dummy</th>\n",
              "      <td id=\"T_8680a_row16_col0\" class=\"data row16 col0\" >Dummy Regressor</td>\n",
              "      <td id=\"T_8680a_row16_col1\" class=\"data row16 col1\" >0.9127</td>\n",
              "      <td id=\"T_8680a_row16_col2\" class=\"data row16 col2\" >1.3318</td>\n",
              "      <td id=\"T_8680a_row16_col3\" class=\"data row16 col3\" >1.1538</td>\n",
              "      <td id=\"T_8680a_row16_col4\" class=\"data row16 col4\" >-0.0007</td>\n",
              "      <td id=\"T_8680a_row16_col5\" class=\"data row16 col5\" >0.3620</td>\n",
              "      <td id=\"T_8680a_row16_col6\" class=\"data row16 col6\" >0.6204</td>\n",
              "      <td id=\"T_8680a_row16_col7\" class=\"data row16 col7\" >0.0660</td>\n",
              "    </tr>\n",
              "    <tr>\n",
              "      <th id=\"T_8680a_level0_row17\" class=\"row_heading level0 row17\" >huber</th>\n",
              "      <td id=\"T_8680a_row17_col0\" class=\"data row17 col0\" >Huber Regressor</td>\n",
              "      <td id=\"T_8680a_row17_col1\" class=\"data row17 col1\" >0.5127</td>\n",
              "      <td id=\"T_8680a_row17_col2\" class=\"data row17 col2\" >1.7863</td>\n",
              "      <td id=\"T_8680a_row17_col3\" class=\"data row17 col3\" >1.0953</td>\n",
              "      <td id=\"T_8680a_row17_col4\" class=\"data row17 col4\" >-0.2924</td>\n",
              "      <td id=\"T_8680a_row17_col5\" class=\"data row17 col5\" >0.2185</td>\n",
              "      <td id=\"T_8680a_row17_col6\" class=\"data row17 col6\" >0.2920</td>\n",
              "      <td id=\"T_8680a_row17_col7\" class=\"data row17 col7\" >0.0770</td>\n",
              "    </tr>\n",
              "    <tr>\n",
              "      <th id=\"T_8680a_level0_row18\" class=\"row_heading level0 row18\" >par</th>\n",
              "      <td id=\"T_8680a_row18_col0\" class=\"data row18 col0\" >Passive Aggressive Regressor</td>\n",
              "      <td id=\"T_8680a_row18_col1\" class=\"data row18 col1\" >0.8802</td>\n",
              "      <td id=\"T_8680a_row18_col2\" class=\"data row18 col2\" >3.4608</td>\n",
              "      <td id=\"T_8680a_row18_col3\" class=\"data row18 col3\" >1.5904</td>\n",
              "      <td id=\"T_8680a_row18_col4\" class=\"data row18 col4\" >-1.5198</td>\n",
              "      <td id=\"T_8680a_row18_col5\" class=\"data row18 col5\" >0.3486</td>\n",
              "      <td id=\"T_8680a_row18_col6\" class=\"data row18 col6\" >0.5635</td>\n",
              "      <td id=\"T_8680a_row18_col7\" class=\"data row18 col7\" >0.0540</td>\n",
              "    </tr>\n",
              "  </tbody>\n",
              "</table>\n"
            ]
          },
          "metadata": {}
        },
        {
          "output_type": "display_data",
          "data": {
            "text/plain": [
              "Processing:   0%|          | 0/81 [00:00<?, ?it/s]"
            ],
            "application/vnd.jupyter.widget-view+json": {
              "version_major": 2,
              "version_minor": 0,
              "model_id": "b9bf112d0b1547199e594e5e5bde45e0"
            }
          },
          "metadata": {
            "application/vnd.jupyter.widget-view+json": {
              "colab": {
                "custom_widget_manager": {
                  "url": "https://ssl.gstatic.com/colaboratory-static/widgets/colab-cdn-widget-manager/b3e629b1971e1542/manager.min.js"
                }
              }
            }
          }
        },
        {
          "output_type": "display_data",
          "data": {
            "text/plain": [
              "<IPython.core.display.HTML object>"
            ],
            "text/html": []
          },
          "metadata": {}
        }
      ]
    },
    {
      "cell_type": "code",
      "source": [
        "baseline_model"
      ],
      "metadata": {
        "colab": {
          "base_uri": "https://localhost:8080/",
          "height": 74
        },
        "id": "5GcC1Ls7uqLu",
        "outputId": "ba067bcc-230f-4a8e-c224-8ed337e44ba8"
      },
      "execution_count": 32,
      "outputs": [
        {
          "output_type": "execute_result",
          "data": {
            "text/plain": [
              "LGBMRegressor(n_jobs=-1, random_state=500)"
            ],
            "text/html": [
              "<style>#sk-container-id-3 {color: black;background-color: white;}#sk-container-id-3 pre{padding: 0;}#sk-container-id-3 div.sk-toggleable {background-color: white;}#sk-container-id-3 label.sk-toggleable__label {cursor: pointer;display: block;width: 100%;margin-bottom: 0;padding: 0.3em;box-sizing: border-box;text-align: center;}#sk-container-id-3 label.sk-toggleable__label-arrow:before {content: \"▸\";float: left;margin-right: 0.25em;color: #696969;}#sk-container-id-3 label.sk-toggleable__label-arrow:hover:before {color: black;}#sk-container-id-3 div.sk-estimator:hover label.sk-toggleable__label-arrow:before {color: black;}#sk-container-id-3 div.sk-toggleable__content {max-height: 0;max-width: 0;overflow: hidden;text-align: left;background-color: #f0f8ff;}#sk-container-id-3 div.sk-toggleable__content pre {margin: 0.2em;color: black;border-radius: 0.25em;background-color: #f0f8ff;}#sk-container-id-3 input.sk-toggleable__control:checked~div.sk-toggleable__content {max-height: 200px;max-width: 100%;overflow: auto;}#sk-container-id-3 input.sk-toggleable__control:checked~label.sk-toggleable__label-arrow:before {content: \"▾\";}#sk-container-id-3 div.sk-estimator input.sk-toggleable__control:checked~label.sk-toggleable__label {background-color: #d4ebff;}#sk-container-id-3 div.sk-label input.sk-toggleable__control:checked~label.sk-toggleable__label {background-color: #d4ebff;}#sk-container-id-3 input.sk-hidden--visually {border: 0;clip: rect(1px 1px 1px 1px);clip: rect(1px, 1px, 1px, 1px);height: 1px;margin: -1px;overflow: hidden;padding: 0;position: absolute;width: 1px;}#sk-container-id-3 div.sk-estimator {font-family: monospace;background-color: #f0f8ff;border: 1px dotted black;border-radius: 0.25em;box-sizing: border-box;margin-bottom: 0.5em;}#sk-container-id-3 div.sk-estimator:hover {background-color: #d4ebff;}#sk-container-id-3 div.sk-parallel-item::after {content: \"\";width: 100%;border-bottom: 1px solid gray;flex-grow: 1;}#sk-container-id-3 div.sk-label:hover label.sk-toggleable__label {background-color: #d4ebff;}#sk-container-id-3 div.sk-serial::before {content: \"\";position: absolute;border-left: 1px solid gray;box-sizing: border-box;top: 0;bottom: 0;left: 50%;z-index: 0;}#sk-container-id-3 div.sk-serial {display: flex;flex-direction: column;align-items: center;background-color: white;padding-right: 0.2em;padding-left: 0.2em;position: relative;}#sk-container-id-3 div.sk-item {position: relative;z-index: 1;}#sk-container-id-3 div.sk-parallel {display: flex;align-items: stretch;justify-content: center;background-color: white;position: relative;}#sk-container-id-3 div.sk-item::before, #sk-container-id-3 div.sk-parallel-item::before {content: \"\";position: absolute;border-left: 1px solid gray;box-sizing: border-box;top: 0;bottom: 0;left: 50%;z-index: -1;}#sk-container-id-3 div.sk-parallel-item {display: flex;flex-direction: column;z-index: 1;position: relative;background-color: white;}#sk-container-id-3 div.sk-parallel-item:first-child::after {align-self: flex-end;width: 50%;}#sk-container-id-3 div.sk-parallel-item:last-child::after {align-self: flex-start;width: 50%;}#sk-container-id-3 div.sk-parallel-item:only-child::after {width: 0;}#sk-container-id-3 div.sk-dashed-wrapped {border: 1px dashed gray;margin: 0 0.4em 0.5em 0.4em;box-sizing: border-box;padding-bottom: 0.4em;background-color: white;}#sk-container-id-3 div.sk-label label {font-family: monospace;font-weight: bold;display: inline-block;line-height: 1.2em;}#sk-container-id-3 div.sk-label-container {text-align: center;}#sk-container-id-3 div.sk-container {/* jupyter's `normalize.less` sets `[hidden] { display: none; }` but bootstrap.min.css set `[hidden] { display: none !important; }` so we also need the `!important` here to be able to override the default hidden behavior on the sphinx rendered scikit-learn.org. See: https://github.com/scikit-learn/scikit-learn/issues/21755 */display: inline-block !important;position: relative;}#sk-container-id-3 div.sk-text-repr-fallback {display: none;}</style><div id=\"sk-container-id-3\" class=\"sk-top-container\"><div class=\"sk-text-repr-fallback\"><pre>LGBMRegressor(n_jobs=-1, random_state=500)</pre><b>In a Jupyter environment, please rerun this cell to show the HTML representation or trust the notebook. <br />On GitHub, the HTML representation is unable to render, please try loading this page with nbviewer.org.</b></div><div class=\"sk-container\" hidden><div class=\"sk-item\"><div class=\"sk-estimator sk-toggleable\"><input class=\"sk-toggleable__control sk-hidden--visually\" id=\"sk-estimator-id-10\" type=\"checkbox\" checked><label for=\"sk-estimator-id-10\" class=\"sk-toggleable__label sk-toggleable__label-arrow\">LGBMRegressor</label><div class=\"sk-toggleable__content\"><pre>LGBMRegressor(n_jobs=-1, random_state=500)</pre></div></div></div></div></div>"
            ]
          },
          "metadata": {},
          "execution_count": 32
        }
      ]
    },
    {
      "cell_type": "code",
      "source": [
        "exp.plot_model(baseline_model,plot=\"error\")#checking distribution between actual and distributed value"
      ],
      "metadata": {
        "colab": {
          "base_uri": "https://localhost:8080/",
          "height": 526
        },
        "id": "Era-yyfpusZo",
        "outputId": "e54ed8c4-b962-40a8-ba96-8820792a3ed1"
      },
      "execution_count": 33,
      "outputs": [
        {
          "output_type": "display_data",
          "data": {
            "text/plain": [
              "<IPython.core.display.HTML object>"
            ],
            "text/html": []
          },
          "metadata": {}
        },
        {
          "output_type": "display_data",
          "data": {
            "text/plain": [
              "<Figure size 800x550 with 1 Axes>"
            ],
            "image/png": "[encoded data removed]"
          },
          "metadata": {}
        }
      ]
    },
    {
      "cell_type": "code",
      "source": [
        "exp.plot_model(baseline_model,plot=\"feature\")#checking feature importance"
      ],
      "metadata": {
        "colab": {
          "base_uri": "https://localhost:8080/",
          "height": 485
        },
        "id": "cFjJ34Kbu84Q",
        "outputId": "281495cb-36c5-41ba-9dfd-ce9b2629bb7c"
      },
      "execution_count": 34,
      "outputs": [
        {
          "output_type": "display_data",
          "data": {
            "text/plain": [
              "<IPython.core.display.HTML object>"
            ],
            "text/html": []
          },
          "metadata": {}
        },
        {
          "output_type": "display_data",
          "data": {
            "text/plain": [
              "<Figure size 800x500 with 1 Axes>"
            ],
            "image/png": "[encoded data removed]"
          },
          "metadata": {}
        }
      ]
    },
    {
      "cell_type": "code",
      "source": [
        "\n",
        "exp.evaluate_model(baseline_model)"
      ],
      "metadata": {
        "colab": {
          "base_uri": "https://localhost:8080/",
          "height": 207,
          "referenced_widgets": [
            "c7a01f379f474607958a6ab709a563b5",
            "3c2c4e8d1ff94cbbbec8f70b68eeb934",
            "90b7a3449394406d83db4df38c18287d",
            "ddc631d9d75445d5a3e98d2f33ed5740",
            "d9bcf1c2d63f4d62ad6810f35c0d6e9f",
            "0095c4f15bcc4d5f955d959e9e1f0502",
            "cb24dcaf288e4a21be88cf617a250fe3"
          ]
        },
        "id": "l8xo66KKvEfT",
        "outputId": "9bb491b3-262d-4c47-ccef-4c4afc29c4cc"
      },
      "execution_count": 35,
      "outputs": [
        {
          "output_type": "display_data",
          "data": {
            "text/plain": [
              "interactive(children=(ToggleButtons(description='Plot Type:', icons=('',), options=(('Pipeline Plot', 'pipelin…"
            ],
            "application/vnd.jupyter.widget-view+json": {
              "version_major": 2,
              "version_minor": 0,
              "model_id": "c7a01f379f474607958a6ab709a563b5"
            }
          },
          "metadata": {
            "application/vnd.jupyter.widget-view+json": {
              "colab": {
                "custom_widget_manager": {
                  "url": "https://ssl.gstatic.com/colaboratory-static/widgets/colab-cdn-widget-manager/b3e629b1971e1542/manager.min.js"
                }
              }
            }
          }
        }
      ]
    },
    {
      "cell_type": "code",
      "source": [
        "#checking how the model performs on unseen data\n",
        "baseline_model_pred = exp.predict_model(baseline_model)"
      ],
      "metadata": {
        "colab": {
          "base_uri": "https://localhost:8080/",
          "height": 80
        },
        "id": "WIHycG2yvVsk",
        "outputId": "afbf03c8-620a-45de-f52a-bd362b10fecd"
      },
      "execution_count": 36,
      "outputs": [
        {
          "output_type": "display_data",
          "data": {
            "text/plain": [
              "<pandas.io.formats.style.Styler at 0x7d86b0f432e0>"
            ],
            "text/html": [
              "<style type=\"text/css\">\n",
              "</style>\n",
              "<table id=\"T_7fb9b\" class=\"dataframe\">\n",
              "  <thead>\n",
              "    <tr>\n",
              "      <th class=\"blank level0\" >&nbsp;</th>\n",
              "      <th id=\"T_7fb9b_level0_col0\" class=\"col_heading level0 col0\" >Model</th>\n",
              "      <th id=\"T_7fb9b_level0_col1\" class=\"col_heading level0 col1\" >MAE</th>\n",
              "      <th id=\"T_7fb9b_level0_col2\" class=\"col_heading level0 col2\" >MSE</th>\n",
              "      <th id=\"T_7fb9b_level0_col3\" class=\"col_heading level0 col3\" >RMSE</th>\n",
              "      <th id=\"T_7fb9b_level0_col4\" class=\"col_heading level0 col4\" >R2</th>\n",
              "      <th id=\"T_7fb9b_level0_col5\" class=\"col_heading level0 col5\" >RMSLE</th>\n",
              "      <th id=\"T_7fb9b_level0_col6\" class=\"col_heading level0 col6\" >MAPE</th>\n",
              "    </tr>\n",
              "  </thead>\n",
              "  <tbody>\n",
              "    <tr>\n",
              "      <th id=\"T_7fb9b_level0_row0\" class=\"row_heading level0 row0\" >0</th>\n",
              "      <td id=\"T_7fb9b_row0_col0\" class=\"data row0 col0\" >Light Gradient Boosting Machine</td>\n",
              "      <td id=\"T_7fb9b_row0_col1\" class=\"data row0 col1\" >0.3073</td>\n",
              "      <td id=\"T_7fb9b_row0_col2\" class=\"data row0 col2\" >0.2122</td>\n",
              "      <td id=\"T_7fb9b_row0_col3\" class=\"data row0 col3\" >0.4607</td>\n",
              "      <td id=\"T_7fb9b_row0_col4\" class=\"data row0 col4\" >0.8405</td>\n",
              "      <td id=\"T_7fb9b_row0_col5\" class=\"data row0 col5\" >0.1398</td>\n",
              "      <td id=\"T_7fb9b_row0_col6\" class=\"data row0 col6\" >0.1758</td>\n",
              "    </tr>\n",
              "  </tbody>\n",
              "</table>\n"
            ]
          },
          "metadata": {}
        }
      ]
    },
    {
      "cell_type": "code",
      "source": [
        "baseline_model_pred.head()"
      ],
      "metadata": {
        "colab": {
          "base_uri": "https://localhost:8080/",
          "height": 206
        },
        "id": "00uF7BgJvitr",
        "outputId": "9b8c7a36-542d-4f07-a26f-538a99c1ab33"
      },
      "execution_count": 37,
      "outputs": [
        {
          "output_type": "execute_result",
          "data": {
            "text/plain": [
              "      MedInc  HouseAge  AveRooms  AveBedrms  Population  AveOccup   Latitude  \\\n",
              "9441  2.8750      13.0  5.248485   1.527273       369.0  2.236364  37.689999   \n",
              "2984  1.5625      36.0  5.203208   1.171123       613.0  3.278075  35.340000   \n",
              "8832  4.0651      33.0  3.781213   1.028538      1347.0  1.601665  34.090000   \n",
              "2047  6.8162      15.0  7.383621   1.060345       766.0  3.301724  36.720001   \n",
              "1796  1.7257      39.0  5.068355   1.053165      1166.0  2.951899  37.930000   \n",
              "\n",
              "       Longitude   Target  prediction_label  \n",
              "9441 -120.150002  0.70200          1.095112  \n",
              "2984 -119.010002  0.46700          0.552321  \n",
              "8832 -118.370003  5.00001          4.180863  \n",
              "2047 -119.720001  1.27200          1.850547  \n",
              "1796 -122.349998  0.91500          0.924738  "
            ],
            "text/html": [
              "\n",
              "  <div id=\"df-ae288281-31f2-41c2-845c-9b0c1071bdf3\" class=\"colab-df-container\">\n",
              "    <div>\n",
              "<style scoped>\n",
              "    .dataframe tbody tr th:only-of-type {\n",
              "        vertical-align: middle;\n",
              "    }\n",
              "\n",
              "    .dataframe tbody tr th {\n",
              "        vertical-align: top;\n",
              "    }\n",
              "\n",
              "    .dataframe thead th {\n",
              "        text-align: right;\n",
              "    }\n",
              "</style>\n",
              "<table border=\"1\" class=\"dataframe\">\n",
              "  <thead>\n",
              "    <tr style=\"text-align: right;\">\n",
              "      <th></th>\n",
              "      <th>MedInc</th>\n",
              "      <th>HouseAge</th>\n",
              "      <th>AveRooms</th>\n",
              "      <th>AveBedrms</th>\n",
              "      <th>Population</th>\n",
              "      <th>AveOccup</th>\n",
              "      <th>Latitude</th>\n",
              "      <th>Longitude</th>\n",
              "      <th>Target</th>\n",
              "      <th>prediction_label</th>\n",
              "    </tr>\n",
              "  </thead>\n",
              "  <tbody>\n",
              "    <tr>\n",
              "      <th>9441</th>\n",
              "      <td>2.8750</td>\n",
              "      <td>13.0</td>\n",
              "      <td>5.248485</td>\n",
              "      <td>1.527273</td>\n",
              "      <td>369.0</td>\n",
              "      <td>2.236364</td>\n",
              "      <td>37.689999</td>\n",
              "      <td>-120.150002</td>\n",
              "      <td>0.70200</td>\n",
              "      <td>1.095112</td>\n",
              "    </tr>\n",
              "    <tr>\n",
              "      <th>2984</th>\n",
              "      <td>1.5625</td>\n",
              "      <td>36.0</td>\n",
              "      <td>5.203208</td>\n",
              "      <td>1.171123</td>\n",
              "      <td>613.0</td>\n",
              "      <td>3.278075</td>\n",
              "      <td>35.340000</td>\n",
              "      <td>-119.010002</td>\n",
              "      <td>0.46700</td>\n",
              "      <td>0.552321</td>\n",
              "    </tr>\n",
              "    <tr>\n",
              "      <th>8832</th>\n",
              "      <td>4.0651</td>\n",
              "      <td>33.0</td>\n",
              "      <td>3.781213</td>\n",
              "      <td>1.028538</td>\n",
              "      <td>1347.0</td>\n",
              "      <td>1.601665</td>\n",
              "      <td>34.090000</td>\n",
              "      <td>-118.370003</td>\n",
              "      <td>5.00001</td>\n",
              "      <td>4.180863</td>\n",
              "    </tr>\n",
              "    <tr>\n",
              "      <th>2047</th>\n",
              "      <td>6.8162</td>\n",
              "      <td>15.0</td>\n",
              "      <td>7.383621</td>\n",
              "      <td>1.060345</td>\n",
              "      <td>766.0</td>\n",
              "      <td>3.301724</td>\n",
              "      <td>36.720001</td>\n",
              "      <td>-119.720001</td>\n",
              "      <td>1.27200</td>\n",
              "      <td>1.850547</td>\n",
              "    </tr>\n",
              "    <tr>\n",
              "      <th>1796</th>\n",
              "      <td>1.7257</td>\n",
              "      <td>39.0</td>\n",
              "      <td>5.068355</td>\n",
              "      <td>1.053165</td>\n",
              "      <td>1166.0</td>\n",
              "      <td>2.951899</td>\n",
              "      <td>37.930000</td>\n",
              "      <td>-122.349998</td>\n",
              "      <td>0.91500</td>\n",
              "      <td>0.924738</td>\n",
              "    </tr>\n",
              "  </tbody>\n",
              "</table>\n",
              "</div>\n",
              "    <div class=\"colab-df-buttons\">\n",
              "\n",
              "  <div class=\"colab-df-container\">\n",
              "    <button class=\"colab-df-convert\" onclick=\"convertToInteractive('df-ae288281-31f2-41c2-845c-9b0c1071bdf3')\"\n",
              "            title=\"Convert this dataframe to an interactive table.\"\n",
              "            style=\"display:none;\">\n",
              "\n",
              "  <svg xmlns=\"http://www.w3.org/2000/svg\" height=\"24px\" viewBox=\"0 -960 960 960\">\n",
              "    <path d=\"M120-120v-720h720v720H120Zm60-500h600v-160H180v160Zm220 220h160v-160H400v160Zm0 220h160v-160H400v160ZM180-400h160v-160H180v160Zm440 0h160v-160H620v160ZM180-180h160v-160H180v160Zm440 0h160v-160H620v160Z\"/>\n",
              "  </svg>\n",
              "    </button>\n",
              "\n",
              "  <style>\n",
              "    .colab-df-container {\n",
              "      display:flex;\n",
              "      gap: 12px;\n",
              "    }\n",
              "\n",
              "    .colab-df-convert {\n",
              "      background-color: #E8F0FE;\n",
              "      border: none;\n",
              "      border-radius: 50%;\n",
              "      cursor: pointer;\n",
              "      display: none;\n",
              "      fill: #1967D2;\n",
              "      height: 32px;\n",
              "      padding: 0 0 0 0;\n",
              "      width: 32px;\n",
              "    }\n",
              "\n",
              "    .colab-df-convert:hover {\n",
              "      background-color: #E2EBFA;\n",
              "      box-shadow: 0px 1px 2px rgba(60, 64, 67, 0.3), 0px 1px 3px 1px rgba(60, 64, 67, 0.15);\n",
              "      fill: #174EA6;\n",
              "    }\n",
              "\n",
              "    .colab-df-buttons div {\n",
              "      margin-bottom: 4px;\n",
              "    }\n",
              "\n",
              "    [theme=dark] .colab-df-convert {\n",
              "      background-color: #3B4455;\n",
              "      fill: #D2E3FC;\n",
              "    }\n",
              "\n",
              "    [theme=dark] .colab-df-convert:hover {\n",
              "      background-color: #434B5C;\n",
              "      box-shadow: 0px 1px 3px 1px rgba(0, 0, 0, 0.15);\n",
              "      filter: drop-shadow(0px 1px 2px rgba(0, 0, 0, 0.3));\n",
              "      fill: #FFFFFF;\n",
              "    }\n",
              "  </style>\n",
              "\n",
              "    <script>\n",
              "      const buttonEl =\n",
              "        document.querySelector('#df-ae288281-31f2-41c2-845c-9b0c1071bdf3 button.colab-df-convert');\n",
              "      buttonEl.style.display =\n",
              "        google.colab.kernel.accessAllowed ? 'block' : 'none';\n",
              "\n",
              "      async function convertToInteractive(key) {\n",
              "        const element = document.querySelector('#df-ae288281-31f2-41c2-845c-9b0c1071bdf3');\n",
              "        const dataTable =\n",
              "          await google.colab.kernel.invokeFunction('convertToInteractive',\n",
              "                                                    [key], {});\n",
              "        if (!dataTable) return;\n",
              "\n",
              "        const docLinkHtml = 'Like what you see? Visit the ' +\n",
              "          '<a target=\"_blank\" href=https://colab.research.google.com/notebooks/data_table.ipynb>data table notebook</a>'\n",
              "          + ' to learn more about interactive tables.';\n",
              "        element.innerHTML = '';\n",
              "        dataTable['output_type'] = 'display_data';\n",
              "        await google.colab.output.renderOutput(dataTable, element);\n",
              "        const docLink = document.createElement('div');\n",
              "        docLink.innerHTML = docLinkHtml;\n",
              "        element.appendChild(docLink);\n",
              "      }\n",
              "    </script>\n",
              "  </div>\n",
              "\n",
              "\n",
              "<div id=\"df-a8f9c484-5529-4c29-b3dc-6db85695c0a0\">\n",
              "  <button class=\"colab-df-quickchart\" onclick=\"quickchart('df-a8f9c484-5529-4c29-b3dc-6db85695c0a0')\"\n",
              "            title=\"Suggest charts.\"\n",
              "            style=\"display:none;\">\n",
              "\n",
              "<svg xmlns=\"http://www.w3.org/2000/svg\" height=\"24px\"viewBox=\"0 0 24 24\"\n",
              "     width=\"24px\">\n",
              "    <g>\n",
              "        <path d=\"M19 3H5c-1.1 0-2 .9-2 2v14c0 1.1.9 2 2 2h14c1.1 0 2-.9 2-2V5c0-1.1-.9-2-2-2zM9 17H7v-7h2v7zm4 0h-2V7h2v10zm4 0h-2v-4h2v4z\"/>\n",
              "    </g>\n",
              "</svg>\n",
              "  </button>\n",
              "\n",
              "<style>\n",
              "  .colab-df-quickchart {\n",
              "      --bg-color: #E8F0FE;\n",
              "      --fill-color: #1967D2;\n",
              "      --hover-bg-color: #E2EBFA;\n",
              "      --hover-fill-color: #174EA6;\n",
              "      --disabled-fill-color: #AAA;\n",
              "      --disabled-bg-color: #DDD;\n",
              "  }\n",
              "\n",
              "  [theme=dark] .colab-df-quickchart {\n",
              "      --bg-color: #3B4455;\n",
              "      --fill-color: #D2E3FC;\n",
              "      --hover-bg-color: #434B5C;\n",
              "      --hover-fill-color: #FFFFFF;\n",
              "      --disabled-bg-color: #3B4455;\n",
              "      --disabled-fill-color: #666;\n",
              "  }\n",
              "\n",
              "  .colab-df-quickchart {\n",
              "    background-color: var(--bg-color);\n",
              "    border: none;\n",
              "    border-radius: 50%;\n",
              "    cursor: pointer;\n",
              "    display: none;\n",
              "    fill: var(--fill-color);\n",
              "    height: 32px;\n",
              "    padding: 0;\n",
              "    width: 32px;\n",
              "  }\n",
              "\n",
              "  .colab-df-quickchart:hover {\n",
              "    background-color: var(--hover-bg-color);\n",
              "    box-shadow: 0 1px 2px rgba(60, 64, 67, 0.3), 0 1px 3px 1px rgba(60, 64, 67, 0.15);\n",
              "    fill: var(--button-hover-fill-color);\n",
              "  }\n",
              "\n",
              "  .colab-df-quickchart-complete:disabled,\n",
              "  .colab-df-quickchart-complete:disabled:hover {\n",
              "    background-color: var(--disabled-bg-color);\n",
              "    fill: var(--disabled-fill-color);\n",
              "    box-shadow: none;\n",
              "  }\n",
              "\n",
              "  .colab-df-spinner {\n",
              "    border: 2px solid var(--fill-color);\n",
              "    border-color: transparent;\n",
              "    border-bottom-color: var(--fill-color);\n",
              "    animation:\n",
              "      spin 1s steps(1) infinite;\n",
              "  }\n",
              "\n",
              "  @keyframes spin {\n",
              "    0% {\n",
              "      border-color: transparent;\n",
              "      border-bottom-color: var(--fill-color);\n",
              "      border-left-color: var(--fill-color);\n",
              "    }\n",
              "    20% {\n",
              "      border-color: transparent;\n",
              "      border-left-color: var(--fill-color);\n",
              "      border-top-color: var(--fill-color);\n",
              "    }\n",
              "    30% {\n",
              "      border-color: transparent;\n",
              "      border-left-color: var(--fill-color);\n",
              "      border-top-color: var(--fill-color);\n",
              "      border-right-color: var(--fill-color);\n",
              "    }\n",
              "    40% {\n",
              "      border-color: transparent;\n",
              "      border-right-color: var(--fill-color);\n",
              "      border-top-color: var(--fill-color);\n",
              "    }\n",
              "    60% {\n",
              "      border-color: transparent;\n",
              "      border-right-color: var(--fill-color);\n",
              "    }\n",
              "    80% {\n",
              "      border-color: transparent;\n",
              "      border-right-color: var(--fill-color);\n",
              "      border-bottom-color: var(--fill-color);\n",
              "    }\n",
              "    90% {\n",
              "      border-color: transparent;\n",
              "      border-bottom-color: var(--fill-color);\n",
              "    }\n",
              "  }\n",
              "</style>\n",
              "\n",
              "  <script>\n",
              "    async function quickchart(key) {\n",
              "      const quickchartButtonEl =\n",
              "        document.querySelector('#' + key + ' button');\n",
              "      quickchartButtonEl.disabled = true;  // To prevent multiple clicks.\n",
              "      quickchartButtonEl.classList.add('colab-df-spinner');\n",
              "      try {\n",
              "        const charts = await google.colab.kernel.invokeFunction(\n",
              "            'suggestCharts', [key], {});\n",
              "      } catch (error) {\n",
              "        console.error('Error during call to suggestCharts:', error);\n",
              "      }\n",
              "      quickchartButtonEl.classList.remove('colab-df-spinner');\n",
              "      quickchartButtonEl.classList.add('colab-df-quickchart-complete');\n",
              "    }\n",
              "    (() => {\n",
              "      let quickchartButtonEl =\n",
              "        document.querySelector('#df-a8f9c484-5529-4c29-b3dc-6db85695c0a0 button');\n",
              "      quickchartButtonEl.style.display =\n",
              "        google.colab.kernel.accessAllowed ? 'block' : 'none';\n",
              "    })();\n",
              "  </script>\n",
              "</div>\n",
              "    </div>\n",
              "  </div>\n"
            ]
          },
          "metadata": {},
          "execution_count": 37
        }
      ]
    },
    {
      "cell_type": "markdown",
      "source": [
        "The Model has MAE of 0.3, impling that in an acerage the model is off by $300k when predicting the median household price"
      ],
      "metadata": {
        "id": "04PNX6wAxIb2"
      }
    },
    {
      "cell_type": "code",
      "source": [],
      "metadata": {
        "id": "DaSwLVXdxH1H"
      },
      "execution_count": 37,
      "outputs": []
    },
    {
      "cell_type": "code",
      "source": [
        "#saving the mode\n",
        "exp.save_model(baseline_model,'/content/drive/MyDrive/ca_housing')"
      ],
      "metadata": {
        "colab": {
          "base_uri": "https://localhost:8080/"
        },
        "id": "KyFFgNEXvnJh",
        "outputId": "57160424-ac5c-42ea-d94a-ed112a54c17b"
      },
      "execution_count": 19,
      "outputs": [
        {
          "output_type": "stream",
          "name": "stdout",
          "text": [
            "Transformation Pipeline and Model Successfully Saved\n"
          ]
        },
        {
          "output_type": "execute_result",
          "data": {
            "text/plain": [
              "(Pipeline(memory=FastMemory(location=/tmp/joblib),\n",
              "          steps=[('numerical_imputer',\n",
              "                  TransformerWrapper(include=['MedInc', 'HouseAge', 'AveRooms',\n",
              "                                              'AveBedrms', 'Population',\n",
              "                                              'AveOccup', 'Latitude',\n",
              "                                              'Longitude'],\n",
              "                                     transformer=SimpleImputer())),\n",
              "                 ('categorical_imputer',\n",
              "                  TransformerWrapper(include=[],\n",
              "                                     transformer=SimpleImputer(strategy='most_frequent'))),\n",
              "                 ('trained_model', LGBMRegressor(n_jobs=-1, random_state=500))]),\n",
              " '/content/drive/MyDrive/ca_housing.pkl')"
            ]
          },
          "metadata": {},
          "execution_count": 19
        }
      ]
    },
    {
      "cell_type": "code",
      "source": [
        "#load the saved model and use it for predicting on the entire dataset"
      ],
      "metadata": {
        "id": "Ygc8sInrwHPN"
      },
      "execution_count": 20,
      "outputs": []
    },
    {
      "cell_type": "code",
      "source": [
        "from pycaret.regression import load_model, predict_model"
      ],
      "metadata": {
        "id": "gyxe1nhCwZ4b"
      },
      "execution_count": 21,
      "outputs": []
    },
    {
      "cell_type": "code",
      "source": [
        "model = load_model('/content/drive/MyDrive/ca_housing')\n",
        "model"
      ],
      "metadata": {
        "colab": {
          "base_uri": "https://localhost:8080/",
          "height": 305
        },
        "id": "Tj6jw7FlwgYr",
        "outputId": "5641d11a-7d64-456c-dace-0e7287ba652d"
      },
      "execution_count": 22,
      "outputs": [
        {
          "output_type": "stream",
          "name": "stdout",
          "text": [
            "Transformation Pipeline and Model Successfully Loaded\n"
          ]
        },
        {
          "output_type": "execute_result",
          "data": {
            "text/plain": [
              "Pipeline(memory=FastMemory(location=/tmp/joblib),\n",
              "         steps=[('numerical_imputer',\n",
              "                 TransformerWrapper(include=['MedInc', 'HouseAge', 'AveRooms',\n",
              "                                             'AveBedrms', 'Population',\n",
              "                                             'AveOccup', 'Latitude',\n",
              "                                             'Longitude'],\n",
              "                                    transformer=SimpleImputer())),\n",
              "                ('categorical_imputer',\n",
              "                 TransformerWrapper(include=[],\n",
              "                                    transformer=SimpleImputer(strategy='most_frequent'))),\n",
              "                ('trained_model', LGBMRegressor(n_jobs=-1, random_state=500))])"
            ],
            "text/html": [
              "<style>#sk-container-id-2 {color: black;background-color: white;}#sk-container-id-2 pre{padding: 0;}#sk-container-id-2 div.sk-toggleable {background-color: white;}#sk-container-id-2 label.sk-toggleable__label {cursor: pointer;display: block;width: 100%;margin-bottom: 0;padding: 0.3em;box-sizing: border-box;text-align: center;}#sk-container-id-2 label.sk-toggleable__label-arrow:before {content: \"▸\";float: left;margin-right: 0.25em;color: #696969;}#sk-container-id-2 label.sk-toggleable__label-arrow:hover:before {color: black;}#sk-container-id-2 div.sk-estimator:hover label.sk-toggleable__label-arrow:before {color: black;}#sk-container-id-2 div.sk-toggleable__content {max-height: 0;max-width: 0;overflow: hidden;text-align: left;background-color: #f0f8ff;}#sk-container-id-2 div.sk-toggleable__content pre {margin: 0.2em;color: black;border-radius: 0.25em;background-color: #f0f8ff;}#sk-container-id-2 input.sk-toggleable__control:checked~div.sk-toggleable__content {max-height: 200px;max-width: 100%;overflow: auto;}#sk-container-id-2 input.sk-toggleable__control:checked~label.sk-toggleable__label-arrow:before {content: \"▾\";}#sk-container-id-2 div.sk-estimator input.sk-toggleable__control:checked~label.sk-toggleable__label {background-color: #d4ebff;}#sk-container-id-2 div.sk-label input.sk-toggleable__control:checked~label.sk-toggleable__label {background-color: #d4ebff;}#sk-container-id-2 input.sk-hidden--visually {border: 0;clip: rect(1px 1px 1px 1px);clip: rect(1px, 1px, 1px, 1px);height: 1px;margin: -1px;overflow: hidden;padding: 0;position: absolute;width: 1px;}#sk-container-id-2 div.sk-estimator {font-family: monospace;background-color: #f0f8ff;border: 1px dotted black;border-radius: 0.25em;box-sizing: border-box;margin-bottom: 0.5em;}#sk-container-id-2 div.sk-estimator:hover {background-color: #d4ebff;}#sk-container-id-2 div.sk-parallel-item::after {content: \"\";width: 100%;border-bottom: 1px solid gray;flex-grow: 1;}#sk-container-id-2 div.sk-label:hover label.sk-toggleable__label {background-color: #d4ebff;}#sk-container-id-2 div.sk-serial::before {content: \"\";position: absolute;border-left: 1px solid gray;box-sizing: border-box;top: 0;bottom: 0;left: 50%;z-index: 0;}#sk-container-id-2 div.sk-serial {display: flex;flex-direction: column;align-items: center;background-color: white;padding-right: 0.2em;padding-left: 0.2em;position: relative;}#sk-container-id-2 div.sk-item {position: relative;z-index: 1;}#sk-container-id-2 div.sk-parallel {display: flex;align-items: stretch;justify-content: center;background-color: white;position: relative;}#sk-container-id-2 div.sk-item::before, #sk-container-id-2 div.sk-parallel-item::before {content: \"\";position: absolute;border-left: 1px solid gray;box-sizing: border-box;top: 0;bottom: 0;left: 50%;z-index: -1;}#sk-container-id-2 div.sk-parallel-item {display: flex;flex-direction: column;z-index: 1;position: relative;background-color: white;}#sk-container-id-2 div.sk-parallel-item:first-child::after {align-self: flex-end;width: 50%;}#sk-container-id-2 div.sk-parallel-item:last-child::after {align-self: flex-start;width: 50%;}#sk-container-id-2 div.sk-parallel-item:only-child::after {width: 0;}#sk-container-id-2 div.sk-dashed-wrapped {border: 1px dashed gray;margin: 0 0.4em 0.5em 0.4em;box-sizing: border-box;padding-bottom: 0.4em;background-color: white;}#sk-container-id-2 div.sk-label label {font-family: monospace;font-weight: bold;display: inline-block;line-height: 1.2em;}#sk-container-id-2 div.sk-label-container {text-align: center;}#sk-container-id-2 div.sk-container {/* jupyter's `normalize.less` sets `[hidden] { display: none; }` but bootstrap.min.css set `[hidden] { display: none !important; }` so we also need the `!important` here to be able to override the default hidden behavior on the sphinx rendered scikit-learn.org. See: https://github.com/scikit-learn/scikit-learn/issues/21755 */display: inline-block !important;position: relative;}#sk-container-id-2 div.sk-text-repr-fallback {display: none;}</style><div id=\"sk-container-id-2\" class=\"sk-top-container\"><div class=\"sk-text-repr-fallback\"><pre>Pipeline(memory=FastMemory(location=/tmp/joblib),\n",
              "         steps=[(&#x27;numerical_imputer&#x27;,\n",
              "                 TransformerWrapper(include=[&#x27;MedInc&#x27;, &#x27;HouseAge&#x27;, &#x27;AveRooms&#x27;,\n",
              "                                             &#x27;AveBedrms&#x27;, &#x27;Population&#x27;,\n",
              "                                             &#x27;AveOccup&#x27;, &#x27;Latitude&#x27;,\n",
              "                                             &#x27;Longitude&#x27;],\n",
              "                                    transformer=SimpleImputer())),\n",
              "                (&#x27;categorical_imputer&#x27;,\n",
              "                 TransformerWrapper(include=[],\n",
              "                                    transformer=SimpleImputer(strategy=&#x27;most_frequent&#x27;))),\n",
              "                (&#x27;trained_model&#x27;, LGBMRegressor(n_jobs=-1, random_state=500))])</pre><b>In a Jupyter environment, please rerun this cell to show the HTML representation or trust the notebook. <br />On GitHub, the HTML representation is unable to render, please try loading this page with nbviewer.org.</b></div><div class=\"sk-container\" hidden><div class=\"sk-item sk-dashed-wrapped\"><div class=\"sk-label-container\"><div class=\"sk-label sk-toggleable\"><input class=\"sk-toggleable__control sk-hidden--visually\" id=\"sk-estimator-id-2\" type=\"checkbox\" ><label for=\"sk-estimator-id-2\" class=\"sk-toggleable__label sk-toggleable__label-arrow\">Pipeline</label><div class=\"sk-toggleable__content\"><pre>Pipeline(memory=FastMemory(location=/tmp/joblib),\n",
              "         steps=[(&#x27;numerical_imputer&#x27;,\n",
              "                 TransformerWrapper(include=[&#x27;MedInc&#x27;, &#x27;HouseAge&#x27;, &#x27;AveRooms&#x27;,\n",
              "                                             &#x27;AveBedrms&#x27;, &#x27;Population&#x27;,\n",
              "                                             &#x27;AveOccup&#x27;, &#x27;Latitude&#x27;,\n",
              "                                             &#x27;Longitude&#x27;],\n",
              "                                    transformer=SimpleImputer())),\n",
              "                (&#x27;categorical_imputer&#x27;,\n",
              "                 TransformerWrapper(include=[],\n",
              "                                    transformer=SimpleImputer(strategy=&#x27;most_frequent&#x27;))),\n",
              "                (&#x27;trained_model&#x27;, LGBMRegressor(n_jobs=-1, random_state=500))])</pre></div></div></div><div class=\"sk-serial\"><div class=\"sk-item sk-dashed-wrapped\"><div class=\"sk-label-container\"><div class=\"sk-label sk-toggleable\"><input class=\"sk-toggleable__control sk-hidden--visually\" id=\"sk-estimator-id-3\" type=\"checkbox\" ><label for=\"sk-estimator-id-3\" class=\"sk-toggleable__label sk-toggleable__label-arrow\">numerical_imputer: TransformerWrapper</label><div class=\"sk-toggleable__content\"><pre>TransformerWrapper(include=[&#x27;MedInc&#x27;, &#x27;HouseAge&#x27;, &#x27;AveRooms&#x27;, &#x27;AveBedrms&#x27;,\n",
              "                            &#x27;Population&#x27;, &#x27;AveOccup&#x27;, &#x27;Latitude&#x27;, &#x27;Longitude&#x27;],\n",
              "                   transformer=SimpleImputer())</pre></div></div></div><div class=\"sk-parallel\"><div class=\"sk-parallel-item\"><div class=\"sk-item\"><div class=\"sk-label-container\"><div class=\"sk-label sk-toggleable\"><input class=\"sk-toggleable__control sk-hidden--visually\" id=\"sk-estimator-id-4\" type=\"checkbox\" ><label for=\"sk-estimator-id-4\" class=\"sk-toggleable__label sk-toggleable__label-arrow\">transformer: SimpleImputer</label><div class=\"sk-toggleable__content\"><pre>SimpleImputer()</pre></div></div></div><div class=\"sk-serial\"><div class=\"sk-item\"><div class=\"sk-estimator sk-toggleable\"><input class=\"sk-toggleable__control sk-hidden--visually\" id=\"sk-estimator-id-5\" type=\"checkbox\" ><label for=\"sk-estimator-id-5\" class=\"sk-toggleable__label sk-toggleable__label-arrow\">SimpleImputer</label><div class=\"sk-toggleable__content\"><pre>SimpleImputer()</pre></div></div></div></div></div></div></div></div><div class=\"sk-item sk-dashed-wrapped\"><div class=\"sk-label-container\"><div class=\"sk-label sk-toggleable\"><input class=\"sk-toggleable__control sk-hidden--visually\" id=\"sk-estimator-id-6\" type=\"checkbox\" ><label for=\"sk-estimator-id-6\" class=\"sk-toggleable__label sk-toggleable__label-arrow\">categorical_imputer: TransformerWrapper</label><div class=\"sk-toggleable__content\"><pre>TransformerWrapper(include=[],\n",
              "                   transformer=SimpleImputer(strategy=&#x27;most_frequent&#x27;))</pre></div></div></div><div class=\"sk-parallel\"><div class=\"sk-parallel-item\"><div class=\"sk-item\"><div class=\"sk-label-container\"><div class=\"sk-label sk-toggleable\"><input class=\"sk-toggleable__control sk-hidden--visually\" id=\"sk-estimator-id-7\" type=\"checkbox\" ><label for=\"sk-estimator-id-7\" class=\"sk-toggleable__label sk-toggleable__label-arrow\">transformer: SimpleImputer</label><div class=\"sk-toggleable__content\"><pre>SimpleImputer(strategy=&#x27;most_frequent&#x27;)</pre></div></div></div><div class=\"sk-serial\"><div class=\"sk-item\"><div class=\"sk-estimator sk-toggleable\"><input class=\"sk-toggleable__control sk-hidden--visually\" id=\"sk-estimator-id-8\" type=\"checkbox\" ><label for=\"sk-estimator-id-8\" class=\"sk-toggleable__label sk-toggleable__label-arrow\">SimpleImputer</label><div class=\"sk-toggleable__content\"><pre>SimpleImputer(strategy=&#x27;most_frequent&#x27;)</pre></div></div></div></div></div></div></div></div><div class=\"sk-item\"><div class=\"sk-estimator sk-toggleable\"><input class=\"sk-toggleable__control sk-hidden--visually\" id=\"sk-estimator-id-9\" type=\"checkbox\" ><label for=\"sk-estimator-id-9\" class=\"sk-toggleable__label sk-toggleable__label-arrow\">LGBMRegressor</label><div class=\"sk-toggleable__content\"><pre>LGBMRegressor(n_jobs=-1, random_state=500)</pre></div></div></div></div></div></div></div>"
            ]
          },
          "metadata": {},
          "execution_count": 22
        }
      ]
    },
    {
      "cell_type": "code",
      "source": [
        "#dropping the target column\n",
        "df= data.drop(['Target'],axis=1)"
      ],
      "metadata": {
        "id": "C-0oN43Hwk6Q"
      },
      "execution_count": 23,
      "outputs": []
    },
    {
      "cell_type": "code",
      "source": [
        "#making predictions\n",
        "pred = predict_model(model,data=df)\n",
        "pred.head()"
      ],
      "metadata": {
        "colab": {
          "base_uri": "https://localhost:8080/",
          "height": 206
        },
        "id": "OVfr26kIwtuy",
        "outputId": "a0ac1dab-2901-4393-f2d0-0c4ee6868b2d"
      },
      "execution_count": 29,
      "outputs": [
        {
          "output_type": "execute_result",
          "data": {
            "text/plain": [
              "   MedInc  HouseAge  AveRooms  AveBedrms  Population  AveOccup   Latitude  \\\n",
              "0  8.3252      41.0  6.984127   1.023810       322.0  2.555556  37.880001   \n",
              "1  8.3014      21.0  6.238137   0.971880      2401.0  2.109842  37.860001   \n",
              "2  7.2574      52.0  8.288136   1.073446       496.0  2.802260  37.849998   \n",
              "3  5.6431      52.0  5.817352   1.073059       558.0  2.547945  37.849998   \n",
              "4  3.8462      52.0  6.281853   1.081081       565.0  2.181467  37.849998   \n",
              "\n",
              "    Longitude  prediction_label  \n",
              "0 -122.230003          4.261620  \n",
              "1 -122.220001          4.000363  \n",
              "2 -122.239998          4.048139  \n",
              "3 -122.250000          3.386385  \n",
              "4 -122.250000          2.776128  "
            ],
            "text/html": [
              "\n",
              "  <div id=\"df-be9ebf28-1b6c-40db-acab-c09a61279978\" class=\"colab-df-container\">\n",
              "    <div>\n",
              "<style scoped>\n",
              "    .dataframe tbody tr th:only-of-type {\n",
              "        vertical-align: middle;\n",
              "    }\n",
              "\n",
              "    .dataframe tbody tr th {\n",
              "        vertical-align: top;\n",
              "    }\n",
              "\n",
              "    .dataframe thead th {\n",
              "        text-align: right;\n",
              "    }\n",
              "</style>\n",
              "<table border=\"1\" class=\"dataframe\">\n",
              "  <thead>\n",
              "    <tr style=\"text-align: right;\">\n",
              "      <th></th>\n",
              "      <th>MedInc</th>\n",
              "      <th>HouseAge</th>\n",
              "      <th>AveRooms</th>\n",
              "      <th>AveBedrms</th>\n",
              "      <th>Population</th>\n",
              "      <th>AveOccup</th>\n",
              "      <th>Latitude</th>\n",
              "      <th>Longitude</th>\n",
              "      <th>prediction_label</th>\n",
              "    </tr>\n",
              "  </thead>\n",
              "  <tbody>\n",
              "    <tr>\n",
              "      <th>0</th>\n",
              "      <td>8.3252</td>\n",
              "      <td>41.0</td>\n",
              "      <td>6.984127</td>\n",
              "      <td>1.023810</td>\n",
              "      <td>322.0</td>\n",
              "      <td>2.555556</td>\n",
              "      <td>37.880001</td>\n",
              "      <td>-122.230003</td>\n",
              "      <td>4.261620</td>\n",
              "    </tr>\n",
              "    <tr>\n",
              "      <th>1</th>\n",
              "      <td>8.3014</td>\n",
              "      <td>21.0</td>\n",
              "      <td>6.238137</td>\n",
              "      <td>0.971880</td>\n",
              "      <td>2401.0</td>\n",
              "      <td>2.109842</td>\n",
              "      <td>37.860001</td>\n",
              "      <td>-122.220001</td>\n",
              "      <td>4.000363</td>\n",
              "    </tr>\n",
              "    <tr>\n",
              "      <th>2</th>\n",
              "      <td>7.2574</td>\n",
              "      <td>52.0</td>\n",
              "      <td>8.288136</td>\n",
              "      <td>1.073446</td>\n",
              "      <td>496.0</td>\n",
              "      <td>2.802260</td>\n",
              "      <td>37.849998</td>\n",
              "      <td>-122.239998</td>\n",
              "      <td>4.048139</td>\n",
              "    </tr>\n",
              "    <tr>\n",
              "      <th>3</th>\n",
              "      <td>5.6431</td>\n",
              "      <td>52.0</td>\n",
              "      <td>5.817352</td>\n",
              "      <td>1.073059</td>\n",
              "      <td>558.0</td>\n",
              "      <td>2.547945</td>\n",
              "      <td>37.849998</td>\n",
              "      <td>-122.250000</td>\n",
              "      <td>3.386385</td>\n",
              "    </tr>\n",
              "    <tr>\n",
              "      <th>4</th>\n",
              "      <td>3.8462</td>\n",
              "      <td>52.0</td>\n",
              "      <td>6.281853</td>\n",
              "      <td>1.081081</td>\n",
              "      <td>565.0</td>\n",
              "      <td>2.181467</td>\n",
              "      <td>37.849998</td>\n",
              "      <td>-122.250000</td>\n",
              "      <td>2.776128</td>\n",
              "    </tr>\n",
              "  </tbody>\n",
              "</table>\n",
              "</div>\n",
              "    <div class=\"colab-df-buttons\">\n",
              "\n",
              "  <div class=\"colab-df-container\">\n",
              "    <button class=\"colab-df-convert\" onclick=\"convertToInteractive('df-be9ebf28-1b6c-40db-acab-c09a61279978')\"\n",
              "            title=\"Convert this dataframe to an interactive table.\"\n",
              "            style=\"display:none;\">\n",
              "\n",
              "  <svg xmlns=\"http://www.w3.org/2000/svg\" height=\"24px\" viewBox=\"0 -960 960 960\">\n",
              "    <path d=\"M120-120v-720h720v720H120Zm60-500h600v-160H180v160Zm220 220h160v-160H400v160Zm0 220h160v-160H400v160ZM180-400h160v-160H180v160Zm440 0h160v-160H620v160ZM180-180h160v-160H180v160Zm440 0h160v-160H620v160Z\"/>\n",
              "  </svg>\n",
              "    </button>\n",
              "\n",
              "  <style>\n",
              "    .colab-df-container {\n",
              "      display:flex;\n",
              "      gap: 12px;\n",
              "    }\n",
              "\n",
              "    .colab-df-convert {\n",
              "      background-color: #E8F0FE;\n",
              "      border: none;\n",
              "      border-radius: 50%;\n",
              "      cursor: pointer;\n",
              "      display: none;\n",
              "      fill: #1967D2;\n",
              "      height: 32px;\n",
              "      padding: 0 0 0 0;\n",
              "      width: 32px;\n",
              "    }\n",
              "\n",
              "    .colab-df-convert:hover {\n",
              "      background-color: #E2EBFA;\n",
              "      box-shadow: 0px 1px 2px rgba(60, 64, 67, 0.3), 0px 1px 3px 1px rgba(60, 64, 67, 0.15);\n",
              "      fill: #174EA6;\n",
              "    }\n",
              "\n",
              "    .colab-df-buttons div {\n",
              "      margin-bottom: 4px;\n",
              "    }\n",
              "\n",
              "    [theme=dark] .colab-df-convert {\n",
              "      background-color: #3B4455;\n",
              "      fill: #D2E3FC;\n",
              "    }\n",
              "\n",
              "    [theme=dark] .colab-df-convert:hover {\n",
              "      background-color: #434B5C;\n",
              "      box-shadow: 0px 1px 3px 1px rgba(0, 0, 0, 0.15);\n",
              "      filter: drop-shadow(0px 1px 2px rgba(0, 0, 0, 0.3));\n",
              "      fill: #FFFFFF;\n",
              "    }\n",
              "  </style>\n",
              "\n",
              "    <script>\n",
              "      const buttonEl =\n",
              "        document.querySelector('#df-be9ebf28-1b6c-40db-acab-c09a61279978 button.colab-df-convert');\n",
              "      buttonEl.style.display =\n",
              "        google.colab.kernel.accessAllowed ? 'block' : 'none';\n",
              "\n",
              "      async function convertToInteractive(key) {\n",
              "        const element = document.querySelector('#df-be9ebf28-1b6c-40db-acab-c09a61279978');\n",
              "        const dataTable =\n",
              "          await google.colab.kernel.invokeFunction('convertToInteractive',\n",
              "                                                    [key], {});\n",
              "        if (!dataTable) return;\n",
              "\n",
              "        const docLinkHtml = 'Like what you see? Visit the ' +\n",
              "          '<a target=\"_blank\" href=https://colab.research.google.com/notebooks/data_table.ipynb>data table notebook</a>'\n",
              "          + ' to learn more about interactive tables.';\n",
              "        element.innerHTML = '';\n",
              "        dataTable['output_type'] = 'display_data';\n",
              "        await google.colab.output.renderOutput(dataTable, element);\n",
              "        const docLink = document.createElement('div');\n",
              "        docLink.innerHTML = docLinkHtml;\n",
              "        element.appendChild(docLink);\n",
              "      }\n",
              "    </script>\n",
              "  </div>\n",
              "\n",
              "\n",
              "<div id=\"df-8ce28fa9-1d60-40da-baf4-ddf17be517c0\">\n",
              "  <button class=\"colab-df-quickchart\" onclick=\"quickchart('df-8ce28fa9-1d60-40da-baf4-ddf17be517c0')\"\n",
              "            title=\"Suggest charts.\"\n",
              "            style=\"display:none;\">\n",
              "\n",
              "<svg xmlns=\"http://www.w3.org/2000/svg\" height=\"24px\"viewBox=\"0 0 24 24\"\n",
              "     width=\"24px\">\n",
              "    <g>\n",
              "        <path d=\"M19 3H5c-1.1 0-2 .9-2 2v14c0 1.1.9 2 2 2h14c1.1 0 2-.9 2-2V5c0-1.1-.9-2-2-2zM9 17H7v-7h2v7zm4 0h-2V7h2v10zm4 0h-2v-4h2v4z\"/>\n",
              "    </g>\n",
              "</svg>\n",
              "  </button>\n",
              "\n",
              "<style>\n",
              "  .colab-df-quickchart {\n",
              "      --bg-color: #E8F0FE;\n",
              "      --fill-color: #1967D2;\n",
              "      --hover-bg-color: #E2EBFA;\n",
              "      --hover-fill-color: #174EA6;\n",
              "      --disabled-fill-color: #AAA;\n",
              "      --disabled-bg-color: #DDD;\n",
              "  }\n",
              "\n",
              "  [theme=dark] .colab-df-quickchart {\n",
              "      --bg-color: #3B4455;\n",
              "      --fill-color: #D2E3FC;\n",
              "      --hover-bg-color: #434B5C;\n",
              "      --hover-fill-color: #FFFFFF;\n",
              "      --disabled-bg-color: #3B4455;\n",
              "      --disabled-fill-color: #666;\n",
              "  }\n",
              "\n",
              "  .colab-df-quickchart {\n",
              "    background-color: var(--bg-color);\n",
              "    border: none;\n",
              "    border-radius: 50%;\n",
              "    cursor: pointer;\n",
              "    display: none;\n",
              "    fill: var(--fill-color);\n",
              "    height: 32px;\n",
              "    padding: 0;\n",
              "    width: 32px;\n",
              "  }\n",
              "\n",
              "  .colab-df-quickchart:hover {\n",
              "    background-color: var(--hover-bg-color);\n",
              "    box-shadow: 0 1px 2px rgba(60, 64, 67, 0.3), 0 1px 3px 1px rgba(60, 64, 67, 0.15);\n",
              "    fill: var(--button-hover-fill-color);\n",
              "  }\n",
              "\n",
              "  .colab-df-quickchart-complete:disabled,\n",
              "  .colab-df-quickchart-complete:disabled:hover {\n",
              "    background-color: var(--disabled-bg-color);\n",
              "    fill: var(--disabled-fill-color);\n",
              "    box-shadow: none;\n",
              "  }\n",
              "\n",
              "  .colab-df-spinner {\n",
              "    border: 2px solid var(--fill-color);\n",
              "    border-color: transparent;\n",
              "    border-bottom-color: var(--fill-color);\n",
              "    animation:\n",
              "      spin 1s steps(1) infinite;\n",
              "  }\n",
              "\n",
              "  @keyframes spin {\n",
              "    0% {\n",
              "      border-color: transparent;\n",
              "      border-bottom-color: var(--fill-color);\n",
              "      border-left-color: var(--fill-color);\n",
              "    }\n",
              "    20% {\n",
              "      border-color: transparent;\n",
              "      border-left-color: var(--fill-color);\n",
              "      border-top-color: var(--fill-color);\n",
              "    }\n",
              "    30% {\n",
              "      border-color: transparent;\n",
              "      border-left-color: var(--fill-color);\n",
              "      border-top-color: var(--fill-color);\n",
              "      border-right-color: var(--fill-color);\n",
              "    }\n",
              "    40% {\n",
              "      border-color: transparent;\n",
              "      border-right-color: var(--fill-color);\n",
              "      border-top-color: var(--fill-color);\n",
              "    }\n",
              "    60% {\n",
              "      border-color: transparent;\n",
              "      border-right-color: var(--fill-color);\n",
              "    }\n",
              "    80% {\n",
              "      border-color: transparent;\n",
              "      border-right-color: var(--fill-color);\n",
              "      border-bottom-color: var(--fill-color);\n",
              "    }\n",
              "    90% {\n",
              "      border-color: transparent;\n",
              "      border-bottom-color: var(--fill-color);\n",
              "    }\n",
              "  }\n",
              "</style>\n",
              "\n",
              "  <script>\n",
              "    async function quickchart(key) {\n",
              "      const quickchartButtonEl =\n",
              "        document.querySelector('#' + key + ' button');\n",
              "      quickchartButtonEl.disabled = true;  // To prevent multiple clicks.\n",
              "      quickchartButtonEl.classList.add('colab-df-spinner');\n",
              "      try {\n",
              "        const charts = await google.colab.kernel.invokeFunction(\n",
              "            'suggestCharts', [key], {});\n",
              "      } catch (error) {\n",
              "        console.error('Error during call to suggestCharts:', error);\n",
              "      }\n",
              "      quickchartButtonEl.classList.remove('colab-df-spinner');\n",
              "      quickchartButtonEl.classList.add('colab-df-quickchart-complete');\n",
              "    }\n",
              "    (() => {\n",
              "      let quickchartButtonEl =\n",
              "        document.querySelector('#df-8ce28fa9-1d60-40da-baf4-ddf17be517c0 button');\n",
              "      quickchartButtonEl.style.display =\n",
              "        google.colab.kernel.accessAllowed ? 'block' : 'none';\n",
              "    })();\n",
              "  </script>\n",
              "</div>\n",
              "    </div>\n",
              "  </div>\n"
            ]
          },
          "metadata": {},
          "execution_count": 29
        }
      ]
    },
    {
      "cell_type": "markdown",
      "source": [
        "Reference:\n",
        "[1] https://github.com/pycaret/pycaret/blob/master/tutorials/Tutorial%20-%20Regression.ipynb"
      ],
      "metadata": {
        "id": "dnYvoVpHxXpg"
      }
    },
    {
      "cell_type": "code",
      "source": [],
      "metadata": {
        "id": "2bw_UWyDwuEX"
      },
      "execution_count": null,
      "outputs": []
    }
  ]
}